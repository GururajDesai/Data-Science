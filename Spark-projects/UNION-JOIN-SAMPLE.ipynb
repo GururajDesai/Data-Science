{
 "cells": [
  {
   "cell_type": "code",
   "execution_count": 5,
   "metadata": {},
   "outputs": [
    {
     "data": {
      "text/plain": [
       "'\\n    \"in/nasa_19950701.tsv\" file contains 10000 log lines from one of NASA\\'s apache server for July 1st, 1995.\\n    \"in/nasa_19950801.tsv\" file contains 10000 log lines for August 1st, 1995\\n    Create a Spark program to generate a new RDD which contains the log lines from both July 1st and August 1st,\\n    take a 0.1 sample of those log lines and save it to \"out/sample_nasa_logs.tsv\" file.\\n    Keep in mind, that the original log files contains the following header lines.\\n    host    logname    time    method    url    response    bytes\\n    Make sure the head lines are removed in the resulting RDD.\\n'"
      ]
     },
     "execution_count": 5,
     "metadata": {},
     "output_type": "execute_result"
    }
   ],
   "source": [
    "'''\n",
    "    \"in/nasa_19950701.tsv\" file contains 10000 log lines from one of NASA's apache server for July 1st, 1995.\n",
    "    \"in/nasa_19950801.tsv\" file contains 10000 log lines for August 1st, 1995\n",
    "    Create a Spark program to generate a new RDD which contains the log lines from both July 1st and August 1st,\n",
    "    take a 0.1 sample of those log lines and save it to \"out/sample_nasa_logs.tsv\" file.\n",
    "    Keep in mind, that the original log files contains the following header lines.\n",
    "    host    logname    time    method    url    response    bytes\n",
    "    Make sure the head lines are removed in the resulting RDD.\n",
    "'''"
   ]
  },
  {
   "cell_type": "code",
   "execution_count": 1,
   "metadata": {},
   "outputs": [],
   "source": [
    "import sys\n",
    "import findspark\n",
    "findspark.init('/opt/spark/')\n",
    "import pyspark\n",
    "sc = pyspark.SparkContext()"
   ]
  },
  {
   "cell_type": "code",
   "execution_count": 2,
   "metadata": {},
   "outputs": [],
   "source": [
    "juneRDD = sc.textFile(\"/Users/gururaj/Documents/june_01.tsv\")\n",
    "julyRDD = sc.textFile(\"/Users/gururaj/Documents/july_01.tsv\")"
   ]
  },
  {
   "cell_type": "code",
   "execution_count": 3,
   "metadata": {},
   "outputs": [],
   "source": [
    "aggregateLogs = juneRDD.union(julyRDD)"
   ]
  },
  {
   "cell_type": "markdown",
   "metadata": {},
   "source": [
    "# Sampling"
   ]
  },
  {
   "cell_type": "code",
   "execution_count": 4,
   "metadata": {},
   "outputs": [],
   "source": [
    "sample_dataset = aggregateLogs.sample(withReplacement=True, fraction=0.2)\n",
    "sample_dataset.saveAsTextFile(\"/Users/gururaj/Documents/joined_log_file.tsv\")"
   ]
  },
  {
   "cell_type": "code",
   "execution_count": null,
   "metadata": {},
   "outputs": [],
   "source": []
  }
 ],
 "metadata": {
  "kernelspec": {
   "display_name": "Python 3",
   "language": "python",
   "name": "python3"
  },
  "language_info": {
   "codemirror_mode": {
    "name": "ipython",
    "version": 3
   },
   "file_extension": ".py",
   "mimetype": "text/x-python",
   "name": "python",
   "nbconvert_exporter": "python",
   "pygments_lexer": "ipython3",
   "version": "3.6.5"
  }
 },
 "nbformat": 4,
 "nbformat_minor": 2
}
