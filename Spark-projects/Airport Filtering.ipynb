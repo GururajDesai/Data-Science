{
 "cells": [
  {
   "cell_type": "markdown",
   "metadata": {},
   "source": [
    "# This problem helps to understand below mentioned Spark concepts\n",
    "## Read File\n",
    "## Write to File\n",
    "## Transformation (Filter and Map)\n",
    "## Action"
   ]
  },
  {
   "cell_type": "code",
   "execution_count": 1,
   "metadata": {},
   "outputs": [
    {
     "data": {
      "text/plain": [
       "'\\n    Create a Spark program to read the airport data from in/airports.text, find all the airports which are located in United States\\n    and output the airport\\'s name and the city\\'s name to out/airports_in_usa.text.\\n    Each row of the input file contains the following columns:\\n    Airport ID, Name of airport, Main city served by airport, Country where airport is located, IATA/FAA code,\\n    ICAO Code, Latitude, Longitude, Altitude, Timezone, DST, Timezone in Olson format\\n    Sample output:\\n    \"Putnam County Airport\", \"Greencastle\"\\n    \"Dowagiac Municipal Airport\", \"Dowagiac\"\\n    ...\\n'"
      ]
     },
     "execution_count": 1,
     "metadata": {},
     "output_type": "execute_result"
    }
   ],
   "source": [
    "'''\n",
    "    Create a Spark program to read the airport data from in/airports.text, find all the airports which are located in United States\n",
    "    and output the airport's name and the city's name to out/airports_in_usa.text.\n",
    "    Each row of the input file contains the following columns:\n",
    "    Airport ID, Name of airport, Main city served by airport, Country where airport is located, IATA/FAA code,\n",
    "    ICAO Code, Latitude, Longitude, Altitude, Timezone, DST, Timezone in Olson format\n",
    "    Sample output:\n",
    "    \"Putnam County Airport\", \"Greencastle\"\n",
    "    \"Dowagiac Municipal Airport\", \"Dowagiac\"\n",
    "    ...\n",
    "'''"
   ]
  },
  {
   "cell_type": "code",
   "execution_count": 2,
   "metadata": {},
   "outputs": [],
   "source": [
    "import sys\n",
    "import findspark\n",
    "findspark.init('/opt/spark/')"
   ]
  },
  {
   "cell_type": "code",
   "execution_count": 3,
   "metadata": {},
   "outputs": [],
   "source": [
    "import pyspark\n",
    "sc = pyspark.SparkContext()"
   ]
  },
  {
   "cell_type": "code",
   "execution_count": 4,
   "metadata": {},
   "outputs": [],
   "source": [
    "import re\n",
    "COMMA_DELIMETER_WITHIN_QUOTES = re.compile(''',(?=(?:[^\"]*\"[^\"]*\")*[^\"]*$)''')"
   ]
  },
  {
   "cell_type": "code",
   "execution_count": 5,
   "metadata": {},
   "outputs": [
    {
     "data": {
      "text/plain": [
       "re.compile(r',(?=(?:[^\"]*\"[^\"]*\")*[^\"]*$)', re.UNICODE)"
      ]
     },
     "execution_count": 5,
     "metadata": {},
     "output_type": "execute_result"
    }
   ],
   "source": [
    "COMMA_DELIMETER_WITHIN_QUOTES"
   ]
  },
  {
   "cell_type": "code",
   "execution_count": 6,
   "metadata": {},
   "outputs": [],
   "source": [
    "airports = sc.textFile(\"/Users/gururaj/Documents/airports.txt\")"
   ]
  },
  {
   "cell_type": "code",
   "execution_count": 9,
   "metadata": {},
   "outputs": [
    {
     "data": {
      "text/plain": [
       "'1,\"Goroka\",\"Goroka\",\"Papua New Guinea\",\"GKA\",\"AYGA\",-6.081689,145.391881,5282,10,\"U\",\"Pacific/Port_Moresby\"'"
      ]
     },
     "execution_count": 9,
     "metadata": {},
     "output_type": "execute_result"
    }
   ],
   "source": [
    "airports.first()"
   ]
  },
  {
   "cell_type": "code",
   "execution_count": 10,
   "metadata": {},
   "outputs": [],
   "source": [
    "airportsInUsa = airports.filter(lambda line: COMMA_DELIMETER_WITHIN_QUOTES.split(line)[3] == \"\\\"United States\\\"\")"
   ]
  },
  {
   "cell_type": "code",
   "execution_count": 12,
   "metadata": {},
   "outputs": [
    {
     "data": {
      "text/plain": [
       "'6891,\"Putnam County Airport\",\"Greencastle\",\"United States\",\"4I7\",\\\\N,39.6335556,-86.8138056,842,-5,\"U\",\"America/New_York\"'"
      ]
     },
     "execution_count": 12,
     "metadata": {},
     "output_type": "execute_result"
    }
   ],
   "source": [
    "airportsInUsa.first()"
   ]
  },
  {
   "cell_type": "code",
   "execution_count": 13,
   "metadata": {},
   "outputs": [],
   "source": [
    "def splitComma(line: str):\n",
    "    splits = COMMA_DELIMETER_WITHIN_QUOTES.split(line)\n",
    "    return \"{} {}\".format(splits[1], splits[2])"
   ]
  },
  {
   "cell_type": "code",
   "execution_count": 14,
   "metadata": {},
   "outputs": [],
   "source": [
    "airportsNameAndCityNames = airportsInUsa.map(splitComma)"
   ]
  },
  {
   "cell_type": "code",
   "execution_count": 18,
   "metadata": {},
   "outputs": [
    {
     "data": {
      "text/plain": [
       "'\"Putnam County Airport\" \"Greencastle\"'"
      ]
     },
     "execution_count": 18,
     "metadata": {},
     "output_type": "execute_result"
    }
   ],
   "source": [
    "airportsNameAndCityNames.first()"
   ]
  },
  {
   "cell_type": "code",
   "execution_count": 16,
   "metadata": {},
   "outputs": [],
   "source": [
    "airportsNameAndCityNames.saveAsTextFile(\"/Users/gururaj/Documents/usa_airports_citynames.txt\")"
   ]
  },
  {
   "cell_type": "code",
   "execution_count": 19,
   "metadata": {},
   "outputs": [],
   "source": [
    "# Just to cross verify"
   ]
  },
  {
   "cell_type": "code",
   "execution_count": 21,
   "metadata": {},
   "outputs": [],
   "source": [
    "airtportNamesAndCityNamesUnitedStates = sc.textFile(\"/Users/gururaj/Documents/usa_airports_citynames.txt\")"
   ]
  },
  {
   "cell_type": "code",
   "execution_count": 22,
   "metadata": {},
   "outputs": [
    {
     "data": {
      "text/plain": [
       "'\"Magic Valley Regional Airport\" \"Twin Falls\"'"
      ]
     },
     "execution_count": 22,
     "metadata": {},
     "output_type": "execute_result"
    }
   ],
   "source": [
    "airtportNamesAndCityNamesUnitedStates.first()"
   ]
  },
  {
   "cell_type": "code",
   "execution_count": 24,
   "metadata": {},
   "outputs": [
    {
     "data": {
      "text/plain": [
       "'\\nexport JAVA_HOME=$(/usr/libexec/java_home -v 11.0.2)\\n'"
      ]
     },
     "execution_count": 24,
     "metadata": {},
     "output_type": "execute_result"
    }
   ],
   "source": [
    "'''\n",
    "export JAVA_HOME=$(/usr/libexec/java_home -v 11.0.2)\n",
    "'''"
   ]
  }
 ],
 "metadata": {
  "kernelspec": {
   "display_name": "Python 3",
   "language": "python",
   "name": "python3"
  },
  "language_info": {
   "codemirror_mode": {
    "name": "ipython",
    "version": 3
   },
   "file_extension": ".py",
   "mimetype": "text/x-python",
   "name": "python",
   "nbconvert_exporter": "python",
   "pygments_lexer": "ipython3",
   "version": "3.6.5"
  }
 },
 "nbformat": 4,
 "nbformat_minor": 2
}
