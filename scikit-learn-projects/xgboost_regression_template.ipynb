{
  "nbformat": 4,
  "nbformat_minor": 0,
  "metadata": {
    "colab": {
      "provenance": []
    },
    "kernelspec": {
      "name": "python3",
      "display_name": "Python 3"
    },
    "language_info": {
      "name": "python"
    },
    "widgets": {
      "application/vnd.jupyter.widget-state+json": {
        "577c9fa05cfc436a9e7d11b4afd86714": {
          "model_module": "@jupyter-widgets/controls",
          "model_name": "IntProgressModel",
          "model_module_version": "1.5.0",
          "state": {
            "_dom_classes": [],
            "_model_module": "@jupyter-widgets/controls",
            "_model_module_version": "1.5.0",
            "_model_name": "IntProgressModel",
            "_view_count": null,
            "_view_module": "@jupyter-widgets/controls",
            "_view_module_version": "1.5.0",
            "_view_name": "ProgressView",
            "bar_style": "",
            "description": "Processing: ",
            "description_tooltip": null,
            "layout": "IPY_MODEL_09fb8d37b687467da3a43548f8dfdeb4",
            "max": 13,
            "min": 0,
            "orientation": "horizontal",
            "style": "IPY_MODEL_18bd98c445c74288859da5bfb5b21c08",
            "value": 3
          }
        },
        "09fb8d37b687467da3a43548f8dfdeb4": {
          "model_module": "@jupyter-widgets/base",
          "model_name": "LayoutModel",
          "model_module_version": "1.2.0",
          "state": {
            "_model_module": "@jupyter-widgets/base",
            "_model_module_version": "1.2.0",
            "_model_name": "LayoutModel",
            "_view_count": null,
            "_view_module": "@jupyter-widgets/base",
            "_view_module_version": "1.2.0",
            "_view_name": "LayoutView",
            "align_content": null,
            "align_items": null,
            "align_self": null,
            "border": null,
            "bottom": null,
            "display": null,
            "flex": null,
            "flex_flow": null,
            "grid_area": null,
            "grid_auto_columns": null,
            "grid_auto_flow": null,
            "grid_auto_rows": null,
            "grid_column": null,
            "grid_gap": null,
            "grid_row": null,
            "grid_template_areas": null,
            "grid_template_columns": null,
            "grid_template_rows": null,
            "height": null,
            "justify_content": null,
            "justify_items": null,
            "left": null,
            "margin": null,
            "max_height": null,
            "max_width": null,
            "min_height": null,
            "min_width": null,
            "object_fit": null,
            "object_position": null,
            "order": null,
            "overflow": null,
            "overflow_x": null,
            "overflow_y": null,
            "padding": null,
            "right": null,
            "top": null,
            "visibility": null,
            "width": null
          }
        },
        "18bd98c445c74288859da5bfb5b21c08": {
          "model_module": "@jupyter-widgets/controls",
          "model_name": "ProgressStyleModel",
          "model_module_version": "1.5.0",
          "state": {
            "_model_module": "@jupyter-widgets/controls",
            "_model_module_version": "1.5.0",
            "_model_name": "ProgressStyleModel",
            "_view_count": null,
            "_view_module": "@jupyter-widgets/base",
            "_view_module_version": "1.2.0",
            "_view_name": "StyleView",
            "bar_color": null,
            "description_width": ""
          }
        },
        "ce8c1fa13bb1462fa3972c7bdbafe257": {
          "model_module": "@jupyter-widgets/controls",
          "model_name": "TextModel",
          "model_module_version": "1.5.0",
          "state": {
            "_dom_classes": [],
            "_model_module": "@jupyter-widgets/controls",
            "_model_module_version": "1.5.0",
            "_model_name": "TextModel",
            "_view_count": null,
            "_view_module": "@jupyter-widgets/controls",
            "_view_module_version": "1.5.0",
            "_view_name": "TextView",
            "continuous_update": true,
            "description": "",
            "description_tooltip": null,
            "disabled": false,
            "layout": "IPY_MODEL_8546eefd02c243a4a5b5d31b9d8381a3",
            "placeholder": "​",
            "style": "IPY_MODEL_070f1e2d87c0438184ff07cc5f4095e3",
            "value": "Following data types have been inferred automatically, if they are correct press enter to continue or type 'quit' otherwise."
          }
        },
        "8546eefd02c243a4a5b5d31b9d8381a3": {
          "model_module": "@jupyter-widgets/base",
          "model_name": "LayoutModel",
          "model_module_version": "1.2.0",
          "state": {
            "_model_module": "@jupyter-widgets/base",
            "_model_module_version": "1.2.0",
            "_model_name": "LayoutModel",
            "_view_count": null,
            "_view_module": "@jupyter-widgets/base",
            "_view_module_version": "1.2.0",
            "_view_name": "LayoutView",
            "align_content": null,
            "align_items": null,
            "align_self": null,
            "border": null,
            "bottom": null,
            "display": null,
            "flex": null,
            "flex_flow": null,
            "grid_area": null,
            "grid_auto_columns": null,
            "grid_auto_flow": null,
            "grid_auto_rows": null,
            "grid_column": null,
            "grid_gap": null,
            "grid_row": null,
            "grid_template_areas": null,
            "grid_template_columns": null,
            "grid_template_rows": null,
            "height": null,
            "justify_content": null,
            "justify_items": null,
            "left": null,
            "margin": null,
            "max_height": null,
            "max_width": null,
            "min_height": null,
            "min_width": null,
            "object_fit": null,
            "object_position": null,
            "order": null,
            "overflow": null,
            "overflow_x": null,
            "overflow_y": null,
            "padding": null,
            "right": null,
            "top": null,
            "visibility": null,
            "width": "100%"
          }
        },
        "070f1e2d87c0438184ff07cc5f4095e3": {
          "model_module": "@jupyter-widgets/controls",
          "model_name": "DescriptionStyleModel",
          "model_module_version": "1.5.0",
          "state": {
            "_model_module": "@jupyter-widgets/controls",
            "_model_module_version": "1.5.0",
            "_model_name": "DescriptionStyleModel",
            "_view_count": null,
            "_view_module": "@jupyter-widgets/base",
            "_view_module_version": "1.2.0",
            "_view_name": "StyleView",
            "description_width": ""
          }
        },
        "e84c1eb088e541ac8ce3db39c56ec530": {
          "model_module": "@jupyter-widgets/controls",
          "model_name": "IntProgressModel",
          "model_module_version": "1.5.0",
          "state": {
            "_dom_classes": [],
            "_model_module": "@jupyter-widgets/controls",
            "_model_module_version": "1.5.0",
            "_model_name": "IntProgressModel",
            "_view_count": null,
            "_view_module": "@jupyter-widgets/controls",
            "_view_module_version": "1.5.0",
            "_view_name": "ProgressView",
            "bar_style": "",
            "description": "Processing: ",
            "description_tooltip": null,
            "layout": "IPY_MODEL_214180c6e96447abb40d902ff2035262",
            "max": 241,
            "min": 0,
            "orientation": "horizontal",
            "style": "IPY_MODEL_5c6171f863ef4972ad5f8c01640538a7",
            "value": 238
          }
        },
        "214180c6e96447abb40d902ff2035262": {
          "model_module": "@jupyter-widgets/base",
          "model_name": "LayoutModel",
          "model_module_version": "1.2.0",
          "state": {
            "_model_module": "@jupyter-widgets/base",
            "_model_module_version": "1.2.0",
            "_model_name": "LayoutModel",
            "_view_count": null,
            "_view_module": "@jupyter-widgets/base",
            "_view_module_version": "1.2.0",
            "_view_name": "LayoutView",
            "align_content": null,
            "align_items": null,
            "align_self": null,
            "border": null,
            "bottom": null,
            "display": null,
            "flex": null,
            "flex_flow": null,
            "grid_area": null,
            "grid_auto_columns": null,
            "grid_auto_flow": null,
            "grid_auto_rows": null,
            "grid_column": null,
            "grid_gap": null,
            "grid_row": null,
            "grid_template_areas": null,
            "grid_template_columns": null,
            "grid_template_rows": null,
            "height": null,
            "justify_content": null,
            "justify_items": null,
            "left": null,
            "margin": null,
            "max_height": null,
            "max_width": null,
            "min_height": null,
            "min_width": null,
            "object_fit": null,
            "object_position": null,
            "order": null,
            "overflow": null,
            "overflow_x": null,
            "overflow_y": null,
            "padding": null,
            "right": null,
            "top": null,
            "visibility": null,
            "width": null
          }
        },
        "5c6171f863ef4972ad5f8c01640538a7": {
          "model_module": "@jupyter-widgets/controls",
          "model_name": "ProgressStyleModel",
          "model_module_version": "1.5.0",
          "state": {
            "_model_module": "@jupyter-widgets/controls",
            "_model_module_version": "1.5.0",
            "_model_name": "ProgressStyleModel",
            "_view_count": null,
            "_view_module": "@jupyter-widgets/base",
            "_view_module_version": "1.2.0",
            "_view_name": "StyleView",
            "bar_color": null,
            "description_width": ""
          }
        }
      }
    }
  },
  "cells": [
    {
      "cell_type": "code",
      "execution_count": 1,
      "metadata": {
        "id": "tvhwbq4pn6jp",
        "colab": {
          "base_uri": "https://localhost:8080/"
        },
        "outputId": "8cbc2d9a-95d4-44ed-9674-c539c69d4ec1"
      },
      "outputs": [
        {
          "output_type": "stream",
          "name": "stdout",
          "text": [
            "Mounted at /content/drive\n"
          ]
        }
      ],
      "source": [
        "from google.colab import drive\n",
        "drive.mount('/content/drive')"
      ]
    },
    {
      "cell_type": "code",
      "source": [
        "import pandas as pd\n",
        "from sklearn.model_selection import train_test_split, cross_val_score, RepeatedKFold\n",
        "from sklearn import ensemble\n",
        "from sklearn.tree import DecisionTreeRegressor\n",
        "from sklearn.metrics import mean_squared_error\n",
        "from xgboost import XGBRegressor\n",
        "\n",
        "from sklearn.metrics import mean_squared_error, mean_absolute_error\n",
        "\n",
        "from sklearn.tree import DecisionTreeRegressor\n",
        "from sklearn.model_selection import cross_val_score\n",
        "from sklearn.impute import SimpleImputer\n",
        "import numpy as np"
      ],
      "metadata": {
        "id": "la13Jtw3okKR"
      },
      "execution_count": 2,
      "outputs": []
    },
    {
      "cell_type": "code",
      "source": [
        "from hyperopt import STATUS_OK, Trials, fmin, hp, tpe\n",
        "from hyperopt.pyll.base import scope"
      ],
      "metadata": {
        "id": "yNVS2YRqxKfO"
      },
      "execution_count": 3,
      "outputs": []
    },
    {
      "cell_type": "code",
      "source": [
        "#!pip install pycaret==2.0"
      ],
      "metadata": {
        "id": "p4cyuk0yRVyV"
      },
      "execution_count": 4,
      "outputs": []
    },
    {
      "cell_type": "code",
      "source": [
        "train_path = \"/content/drive/MyDrive/Colab Notebooks/ds_projects/train.csv\""
      ],
      "metadata": {
        "id": "j7ueas4XoZYw"
      },
      "execution_count": 5,
      "outputs": []
    },
    {
      "cell_type": "code",
      "source": [
        "train_data = pd.read_csv(train_path)"
      ],
      "metadata": {
        "id": "1u_7NWmXogok"
      },
      "execution_count": 6,
      "outputs": []
    },
    {
      "cell_type": "code",
      "source": [
        "train_data.head(2)"
      ],
      "metadata": {
        "colab": {
          "base_uri": "https://localhost:8080/",
          "height": 205
        },
        "id": "wCdqiFjzorIr",
        "outputId": "81c43733-14e1-4c4b-f18b-826858886610"
      },
      "execution_count": 7,
      "outputs": [
        {
          "output_type": "execute_result",
          "data": {
            "text/plain": [
              "   Id  MSSubClass MSZoning  LotFrontage  LotArea Street Alley LotShape  \\\n",
              "0   1          60       RL         65.0     8450   Pave   NaN      Reg   \n",
              "1   2          20       RL         80.0     9600   Pave   NaN      Reg   \n",
              "\n",
              "  LandContour Utilities  ... PoolArea PoolQC Fence MiscFeature MiscVal MoSold  \\\n",
              "0         Lvl    AllPub  ...        0    NaN   NaN         NaN       0      2   \n",
              "1         Lvl    AllPub  ...        0    NaN   NaN         NaN       0      5   \n",
              "\n",
              "  YrSold  SaleType  SaleCondition  SalePrice  \n",
              "0   2008        WD         Normal     208500  \n",
              "1   2007        WD         Normal     181500  \n",
              "\n",
              "[2 rows x 81 columns]"
            ],
            "text/html": [
              "\n",
              "  <div id=\"df-3303a6e0-efee-4463-842b-af0154f7b171\">\n",
              "    <div class=\"colab-df-container\">\n",
              "      <div>\n",
              "<style scoped>\n",
              "    .dataframe tbody tr th:only-of-type {\n",
              "        vertical-align: middle;\n",
              "    }\n",
              "\n",
              "    .dataframe tbody tr th {\n",
              "        vertical-align: top;\n",
              "    }\n",
              "\n",
              "    .dataframe thead th {\n",
              "        text-align: right;\n",
              "    }\n",
              "</style>\n",
              "<table border=\"1\" class=\"dataframe\">\n",
              "  <thead>\n",
              "    <tr style=\"text-align: right;\">\n",
              "      <th></th>\n",
              "      <th>Id</th>\n",
              "      <th>MSSubClass</th>\n",
              "      <th>MSZoning</th>\n",
              "      <th>LotFrontage</th>\n",
              "      <th>LotArea</th>\n",
              "      <th>Street</th>\n",
              "      <th>Alley</th>\n",
              "      <th>LotShape</th>\n",
              "      <th>LandContour</th>\n",
              "      <th>Utilities</th>\n",
              "      <th>...</th>\n",
              "      <th>PoolArea</th>\n",
              "      <th>PoolQC</th>\n",
              "      <th>Fence</th>\n",
              "      <th>MiscFeature</th>\n",
              "      <th>MiscVal</th>\n",
              "      <th>MoSold</th>\n",
              "      <th>YrSold</th>\n",
              "      <th>SaleType</th>\n",
              "      <th>SaleCondition</th>\n",
              "      <th>SalePrice</th>\n",
              "    </tr>\n",
              "  </thead>\n",
              "  <tbody>\n",
              "    <tr>\n",
              "      <th>0</th>\n",
              "      <td>1</td>\n",
              "      <td>60</td>\n",
              "      <td>RL</td>\n",
              "      <td>65.0</td>\n",
              "      <td>8450</td>\n",
              "      <td>Pave</td>\n",
              "      <td>NaN</td>\n",
              "      <td>Reg</td>\n",
              "      <td>Lvl</td>\n",
              "      <td>AllPub</td>\n",
              "      <td>...</td>\n",
              "      <td>0</td>\n",
              "      <td>NaN</td>\n",
              "      <td>NaN</td>\n",
              "      <td>NaN</td>\n",
              "      <td>0</td>\n",
              "      <td>2</td>\n",
              "      <td>2008</td>\n",
              "      <td>WD</td>\n",
              "      <td>Normal</td>\n",
              "      <td>208500</td>\n",
              "    </tr>\n",
              "    <tr>\n",
              "      <th>1</th>\n",
              "      <td>2</td>\n",
              "      <td>20</td>\n",
              "      <td>RL</td>\n",
              "      <td>80.0</td>\n",
              "      <td>9600</td>\n",
              "      <td>Pave</td>\n",
              "      <td>NaN</td>\n",
              "      <td>Reg</td>\n",
              "      <td>Lvl</td>\n",
              "      <td>AllPub</td>\n",
              "      <td>...</td>\n",
              "      <td>0</td>\n",
              "      <td>NaN</td>\n",
              "      <td>NaN</td>\n",
              "      <td>NaN</td>\n",
              "      <td>0</td>\n",
              "      <td>5</td>\n",
              "      <td>2007</td>\n",
              "      <td>WD</td>\n",
              "      <td>Normal</td>\n",
              "      <td>181500</td>\n",
              "    </tr>\n",
              "  </tbody>\n",
              "</table>\n",
              "<p>2 rows × 81 columns</p>\n",
              "</div>\n",
              "      <button class=\"colab-df-convert\" onclick=\"convertToInteractive('df-3303a6e0-efee-4463-842b-af0154f7b171')\"\n",
              "              title=\"Convert this dataframe to an interactive table.\"\n",
              "              style=\"display:none;\">\n",
              "        \n",
              "  <svg xmlns=\"http://www.w3.org/2000/svg\" height=\"24px\"viewBox=\"0 0 24 24\"\n",
              "       width=\"24px\">\n",
              "    <path d=\"M0 0h24v24H0V0z\" fill=\"none\"/>\n",
              "    <path d=\"M18.56 5.44l.94 2.06.94-2.06 2.06-.94-2.06-.94-.94-2.06-.94 2.06-2.06.94zm-11 1L8.5 8.5l.94-2.06 2.06-.94-2.06-.94L8.5 2.5l-.94 2.06-2.06.94zm10 10l.94 2.06.94-2.06 2.06-.94-2.06-.94-.94-2.06-.94 2.06-2.06.94z\"/><path d=\"M17.41 7.96l-1.37-1.37c-.4-.4-.92-.59-1.43-.59-.52 0-1.04.2-1.43.59L10.3 9.45l-7.72 7.72c-.78.78-.78 2.05 0 2.83L4 21.41c.39.39.9.59 1.41.59.51 0 1.02-.2 1.41-.59l7.78-7.78 2.81-2.81c.8-.78.8-2.07 0-2.86zM5.41 20L4 18.59l7.72-7.72 1.47 1.35L5.41 20z\"/>\n",
              "  </svg>\n",
              "      </button>\n",
              "      \n",
              "  <style>\n",
              "    .colab-df-container {\n",
              "      display:flex;\n",
              "      flex-wrap:wrap;\n",
              "      gap: 12px;\n",
              "    }\n",
              "\n",
              "    .colab-df-convert {\n",
              "      background-color: #E8F0FE;\n",
              "      border: none;\n",
              "      border-radius: 50%;\n",
              "      cursor: pointer;\n",
              "      display: none;\n",
              "      fill: #1967D2;\n",
              "      height: 32px;\n",
              "      padding: 0 0 0 0;\n",
              "      width: 32px;\n",
              "    }\n",
              "\n",
              "    .colab-df-convert:hover {\n",
              "      background-color: #E2EBFA;\n",
              "      box-shadow: 0px 1px 2px rgba(60, 64, 67, 0.3), 0px 1px 3px 1px rgba(60, 64, 67, 0.15);\n",
              "      fill: #174EA6;\n",
              "    }\n",
              "\n",
              "    [theme=dark] .colab-df-convert {\n",
              "      background-color: #3B4455;\n",
              "      fill: #D2E3FC;\n",
              "    }\n",
              "\n",
              "    [theme=dark] .colab-df-convert:hover {\n",
              "      background-color: #434B5C;\n",
              "      box-shadow: 0px 1px 3px 1px rgba(0, 0, 0, 0.15);\n",
              "      filter: drop-shadow(0px 1px 2px rgba(0, 0, 0, 0.3));\n",
              "      fill: #FFFFFF;\n",
              "    }\n",
              "  </style>\n",
              "\n",
              "      <script>\n",
              "        const buttonEl =\n",
              "          document.querySelector('#df-3303a6e0-efee-4463-842b-af0154f7b171 button.colab-df-convert');\n",
              "        buttonEl.style.display =\n",
              "          google.colab.kernel.accessAllowed ? 'block' : 'none';\n",
              "\n",
              "        async function convertToInteractive(key) {\n",
              "          const element = document.querySelector('#df-3303a6e0-efee-4463-842b-af0154f7b171');\n",
              "          const dataTable =\n",
              "            await google.colab.kernel.invokeFunction('convertToInteractive',\n",
              "                                                     [key], {});\n",
              "          if (!dataTable) return;\n",
              "\n",
              "          const docLinkHtml = 'Like what you see? Visit the ' +\n",
              "            '<a target=\"_blank\" href=https://colab.research.google.com/notebooks/data_table.ipynb>data table notebook</a>'\n",
              "            + ' to learn more about interactive tables.';\n",
              "          element.innerHTML = '';\n",
              "          dataTable['output_type'] = 'display_data';\n",
              "          await google.colab.output.renderOutput(dataTable, element);\n",
              "          const docLink = document.createElement('div');\n",
              "          docLink.innerHTML = docLinkHtml;\n",
              "          element.appendChild(docLink);\n",
              "        }\n",
              "      </script>\n",
              "    </div>\n",
              "  </div>\n",
              "  "
            ]
          },
          "metadata": {},
          "execution_count": 7
        }
      ]
    },
    {
      "cell_type": "code",
      "source": [
        "data_without_category = train_data.select_dtypes(include=[\"float64\", \"int64\"])"
      ],
      "metadata": {
        "id": "ZfdfIQvzoyjj"
      },
      "execution_count": 8,
      "outputs": []
    },
    {
      "cell_type": "code",
      "source": [
        "X = data_without_category.loc[:, data_without_category.columns != \"SalePrice\"]\n",
        "y = data_without_category[\"SalePrice\"]"
      ],
      "metadata": {
        "id": "p60XPOEko307"
      },
      "execution_count": 9,
      "outputs": []
    },
    {
      "cell_type": "code",
      "source": [
        "imputer = SimpleImputer(strategy = \"mean\", missing_values = np.nan)\n",
        "X_imputed = imputer.fit_transform(X)"
      ],
      "metadata": {
        "id": "P__30CjNZaHz"
      },
      "execution_count": 10,
      "outputs": []
    },
    {
      "cell_type": "code",
      "source": [
        "X_train, X_val, y_train, y_val = train_test_split(X, y, test_size=0.10, random_state=42)"
      ],
      "metadata": {
        "id": "kVgy85X8o5MD"
      },
      "execution_count": 11,
      "outputs": []
    },
    {
      "cell_type": "code",
      "source": [
        "X_train_imputed, X_val_imputed, y_train_imputed, y_val_imputed = train_test_split(X_imputed, y, test_size=0.10, random_state=42)"
      ],
      "metadata": {
        "id": "dlztP2dWZb1H"
      },
      "execution_count": 12,
      "outputs": []
    },
    {
      "cell_type": "code",
      "source": [
        "print(X_train.shape, X_val.shape)"
      ],
      "metadata": {
        "colab": {
          "base_uri": "https://localhost:8080/"
        },
        "id": "sxbpE3zxo62i",
        "outputId": "c1a5d869-b7f8-45d2-c785-6a5f696c9a50"
      },
      "execution_count": 13,
      "outputs": [
        {
          "output_type": "stream",
          "name": "stdout",
          "text": [
            "(1314, 37) (146, 37)\n"
          ]
        }
      ]
    },
    {
      "cell_type": "markdown",
      "source": [
        "## PyCart AutoML Test"
      ],
      "metadata": {
        "id": "IaE0gwcuQepC"
      }
    },
    {
      "cell_type": "code",
      "source": [
        "from pycaret.regression import *\n",
        "from pycaret.utils import version"
      ],
      "metadata": {
        "id": "t9ifyRTKQiS1"
      },
      "execution_count": null,
      "outputs": []
    },
    {
      "cell_type": "code",
      "source": [
        "version()"
      ],
      "metadata": {
        "colab": {
          "base_uri": "https://localhost:8080/"
        },
        "id": "eEok5CTtRecb",
        "outputId": "dfb698d0-6196-49e3-96c1-95c4f5e7efc1"
      },
      "execution_count": null,
      "outputs": [
        {
          "output_type": "stream",
          "name": "stdout",
          "text": [
            "2.0\n"
          ]
        }
      ]
    },
    {
      "cell_type": "code",
      "source": [
        "model_automl = setup( data = data_without_category, target = 'SalePrice', normalize = True,\n",
        "                   transform_target = False, remove_outliers= True,\n",
        "                   remove_multicollinearity = True,\n",
        "                   ignore_low_variance = True, combine_rare_levels = True, folds_shuffle=True, data_split_shuffle=True)"
      ],
      "metadata": {
        "colab": {
          "base_uri": "https://localhost:8080/",
          "height": 1000,
          "referenced_widgets": [
            "577c9fa05cfc436a9e7d11b4afd86714",
            "09fb8d37b687467da3a43548f8dfdeb4",
            "18bd98c445c74288859da5bfb5b21c08",
            "ce8c1fa13bb1462fa3972c7bdbafe257",
            "8546eefd02c243a4a5b5d31b9d8381a3",
            "070f1e2d87c0438184ff07cc5f4095e3"
          ]
        },
        "id": "53TkcgscRjcy",
        "outputId": "533b44b3-0521-4d4a-aa6d-37d22be29b4b"
      },
      "execution_count": null,
      "outputs": [
        {
          "output_type": "stream",
          "name": "stdout",
          "text": [
            " \n",
            "Setup Succesfully Completed.\n"
          ]
        },
        {
          "output_type": "display_data",
          "data": {
            "text/plain": [
              "<pandas.io.formats.style.Styler at 0x7fa7ce2b4e20>"
            ],
            "text/html": [
              "<style type=\"text/css\">\n",
              "#T_66090_row4_col1, #T_66090_row15_col1, #T_66090_row22_col1, #T_66090_row23_col1, #T_66090_row26_col1, #T_66090_row28_col1 {\n",
              "  background-color: yellow;\n",
              "}\n",
              "</style>\n",
              "<table id=\"T_66090\" class=\"dataframe\">\n",
              "  <thead>\n",
              "    <tr>\n",
              "      <th class=\"blank level0\" >&nbsp;</th>\n",
              "      <th id=\"T_66090_level0_col0\" class=\"col_heading level0 col0\" >Description</th>\n",
              "      <th id=\"T_66090_level0_col1\" class=\"col_heading level0 col1\" >Value</th>\n",
              "    </tr>\n",
              "  </thead>\n",
              "  <tbody>\n",
              "    <tr>\n",
              "      <th id=\"T_66090_level0_row0\" class=\"row_heading level0 row0\" >0</th>\n",
              "      <td id=\"T_66090_row0_col0\" class=\"data row0 col0\" >session_id</td>\n",
              "      <td id=\"T_66090_row0_col1\" class=\"data row0 col1\" >5009</td>\n",
              "    </tr>\n",
              "    <tr>\n",
              "      <th id=\"T_66090_level0_row1\" class=\"row_heading level0 row1\" >1</th>\n",
              "      <td id=\"T_66090_row1_col0\" class=\"data row1 col0\" >Transform Target </td>\n",
              "      <td id=\"T_66090_row1_col1\" class=\"data row1 col1\" >False</td>\n",
              "    </tr>\n",
              "    <tr>\n",
              "      <th id=\"T_66090_level0_row2\" class=\"row_heading level0 row2\" >2</th>\n",
              "      <td id=\"T_66090_row2_col0\" class=\"data row2 col0\" >Transform Target Method</td>\n",
              "      <td id=\"T_66090_row2_col1\" class=\"data row2 col1\" >None</td>\n",
              "    </tr>\n",
              "    <tr>\n",
              "      <th id=\"T_66090_level0_row3\" class=\"row_heading level0 row3\" >3</th>\n",
              "      <td id=\"T_66090_row3_col0\" class=\"data row3 col0\" >Original Data</td>\n",
              "      <td id=\"T_66090_row3_col1\" class=\"data row3 col1\" >(1460, 38)</td>\n",
              "    </tr>\n",
              "    <tr>\n",
              "      <th id=\"T_66090_level0_row4\" class=\"row_heading level0 row4\" >4</th>\n",
              "      <td id=\"T_66090_row4_col0\" class=\"data row4 col0\" >Missing Values </td>\n",
              "      <td id=\"T_66090_row4_col1\" class=\"data row4 col1\" >True</td>\n",
              "    </tr>\n",
              "    <tr>\n",
              "      <th id=\"T_66090_level0_row5\" class=\"row_heading level0 row5\" >5</th>\n",
              "      <td id=\"T_66090_row5_col0\" class=\"data row5 col0\" >Numeric Features </td>\n",
              "      <td id=\"T_66090_row5_col1\" class=\"data row5 col1\" >21</td>\n",
              "    </tr>\n",
              "    <tr>\n",
              "      <th id=\"T_66090_level0_row6\" class=\"row_heading level0 row6\" >6</th>\n",
              "      <td id=\"T_66090_row6_col0\" class=\"data row6 col0\" >Categorical Features </td>\n",
              "      <td id=\"T_66090_row6_col1\" class=\"data row6 col1\" >16</td>\n",
              "    </tr>\n",
              "    <tr>\n",
              "      <th id=\"T_66090_level0_row7\" class=\"row_heading level0 row7\" >7</th>\n",
              "      <td id=\"T_66090_row7_col0\" class=\"data row7 col0\" >Ordinal Features </td>\n",
              "      <td id=\"T_66090_row7_col1\" class=\"data row7 col1\" >False</td>\n",
              "    </tr>\n",
              "    <tr>\n",
              "      <th id=\"T_66090_level0_row8\" class=\"row_heading level0 row8\" >8</th>\n",
              "      <td id=\"T_66090_row8_col0\" class=\"data row8 col0\" >High Cardinality Features </td>\n",
              "      <td id=\"T_66090_row8_col1\" class=\"data row8 col1\" >False</td>\n",
              "    </tr>\n",
              "    <tr>\n",
              "      <th id=\"T_66090_level0_row9\" class=\"row_heading level0 row9\" >9</th>\n",
              "      <td id=\"T_66090_row9_col0\" class=\"data row9 col0\" >High Cardinality Method </td>\n",
              "      <td id=\"T_66090_row9_col1\" class=\"data row9 col1\" >None</td>\n",
              "    </tr>\n",
              "    <tr>\n",
              "      <th id=\"T_66090_level0_row10\" class=\"row_heading level0 row10\" >10</th>\n",
              "      <td id=\"T_66090_row10_col0\" class=\"data row10 col0\" >Sampled Data</td>\n",
              "      <td id=\"T_66090_row10_col1\" class=\"data row10 col1\" >(1387, 38)</td>\n",
              "    </tr>\n",
              "    <tr>\n",
              "      <th id=\"T_66090_level0_row11\" class=\"row_heading level0 row11\" >11</th>\n",
              "      <td id=\"T_66090_row11_col0\" class=\"data row11 col0\" >Transformed Train Set</td>\n",
              "      <td id=\"T_66090_row11_col1\" class=\"data row11 col1\" >(970, 87)</td>\n",
              "    </tr>\n",
              "    <tr>\n",
              "      <th id=\"T_66090_level0_row12\" class=\"row_heading level0 row12\" >12</th>\n",
              "      <td id=\"T_66090_row12_col0\" class=\"data row12 col0\" >Transformed Test Set</td>\n",
              "      <td id=\"T_66090_row12_col1\" class=\"data row12 col1\" >(417, 87)</td>\n",
              "    </tr>\n",
              "    <tr>\n",
              "      <th id=\"T_66090_level0_row13\" class=\"row_heading level0 row13\" >13</th>\n",
              "      <td id=\"T_66090_row13_col0\" class=\"data row13 col0\" >Numeric Imputer </td>\n",
              "      <td id=\"T_66090_row13_col1\" class=\"data row13 col1\" >mean</td>\n",
              "    </tr>\n",
              "    <tr>\n",
              "      <th id=\"T_66090_level0_row14\" class=\"row_heading level0 row14\" >14</th>\n",
              "      <td id=\"T_66090_row14_col0\" class=\"data row14 col0\" >Categorical Imputer </td>\n",
              "      <td id=\"T_66090_row14_col1\" class=\"data row14 col1\" >constant</td>\n",
              "    </tr>\n",
              "    <tr>\n",
              "      <th id=\"T_66090_level0_row15\" class=\"row_heading level0 row15\" >15</th>\n",
              "      <td id=\"T_66090_row15_col0\" class=\"data row15 col0\" >Normalize </td>\n",
              "      <td id=\"T_66090_row15_col1\" class=\"data row15 col1\" >True</td>\n",
              "    </tr>\n",
              "    <tr>\n",
              "      <th id=\"T_66090_level0_row16\" class=\"row_heading level0 row16\" >16</th>\n",
              "      <td id=\"T_66090_row16_col0\" class=\"data row16 col0\" >Normalize Method </td>\n",
              "      <td id=\"T_66090_row16_col1\" class=\"data row16 col1\" >zscore</td>\n",
              "    </tr>\n",
              "    <tr>\n",
              "      <th id=\"T_66090_level0_row17\" class=\"row_heading level0 row17\" >17</th>\n",
              "      <td id=\"T_66090_row17_col0\" class=\"data row17 col0\" >Transformation </td>\n",
              "      <td id=\"T_66090_row17_col1\" class=\"data row17 col1\" >False</td>\n",
              "    </tr>\n",
              "    <tr>\n",
              "      <th id=\"T_66090_level0_row18\" class=\"row_heading level0 row18\" >18</th>\n",
              "      <td id=\"T_66090_row18_col0\" class=\"data row18 col0\" >Transformation Method </td>\n",
              "      <td id=\"T_66090_row18_col1\" class=\"data row18 col1\" >None</td>\n",
              "    </tr>\n",
              "    <tr>\n",
              "      <th id=\"T_66090_level0_row19\" class=\"row_heading level0 row19\" >19</th>\n",
              "      <td id=\"T_66090_row19_col0\" class=\"data row19 col0\" >PCA </td>\n",
              "      <td id=\"T_66090_row19_col1\" class=\"data row19 col1\" >False</td>\n",
              "    </tr>\n",
              "    <tr>\n",
              "      <th id=\"T_66090_level0_row20\" class=\"row_heading level0 row20\" >20</th>\n",
              "      <td id=\"T_66090_row20_col0\" class=\"data row20 col0\" >PCA Method </td>\n",
              "      <td id=\"T_66090_row20_col1\" class=\"data row20 col1\" >None</td>\n",
              "    </tr>\n",
              "    <tr>\n",
              "      <th id=\"T_66090_level0_row21\" class=\"row_heading level0 row21\" >21</th>\n",
              "      <td id=\"T_66090_row21_col0\" class=\"data row21 col0\" >PCA Components </td>\n",
              "      <td id=\"T_66090_row21_col1\" class=\"data row21 col1\" >None</td>\n",
              "    </tr>\n",
              "    <tr>\n",
              "      <th id=\"T_66090_level0_row22\" class=\"row_heading level0 row22\" >22</th>\n",
              "      <td id=\"T_66090_row22_col0\" class=\"data row22 col0\" >Ignore Low Variance </td>\n",
              "      <td id=\"T_66090_row22_col1\" class=\"data row22 col1\" >True</td>\n",
              "    </tr>\n",
              "    <tr>\n",
              "      <th id=\"T_66090_level0_row23\" class=\"row_heading level0 row23\" >23</th>\n",
              "      <td id=\"T_66090_row23_col0\" class=\"data row23 col0\" >Combine Rare Levels </td>\n",
              "      <td id=\"T_66090_row23_col1\" class=\"data row23 col1\" >True</td>\n",
              "    </tr>\n",
              "    <tr>\n",
              "      <th id=\"T_66090_level0_row24\" class=\"row_heading level0 row24\" >24</th>\n",
              "      <td id=\"T_66090_row24_col0\" class=\"data row24 col0\" >Rare Level Threshold </td>\n",
              "      <td id=\"T_66090_row24_col1\" class=\"data row24 col1\" >0.100000</td>\n",
              "    </tr>\n",
              "    <tr>\n",
              "      <th id=\"T_66090_level0_row25\" class=\"row_heading level0 row25\" >25</th>\n",
              "      <td id=\"T_66090_row25_col0\" class=\"data row25 col0\" >Numeric Binning </td>\n",
              "      <td id=\"T_66090_row25_col1\" class=\"data row25 col1\" >False</td>\n",
              "    </tr>\n",
              "    <tr>\n",
              "      <th id=\"T_66090_level0_row26\" class=\"row_heading level0 row26\" >26</th>\n",
              "      <td id=\"T_66090_row26_col0\" class=\"data row26 col0\" >Remove Outliers </td>\n",
              "      <td id=\"T_66090_row26_col1\" class=\"data row26 col1\" >True</td>\n",
              "    </tr>\n",
              "    <tr>\n",
              "      <th id=\"T_66090_level0_row27\" class=\"row_heading level0 row27\" >27</th>\n",
              "      <td id=\"T_66090_row27_col0\" class=\"data row27 col0\" >Outliers Threshold </td>\n",
              "      <td id=\"T_66090_row27_col1\" class=\"data row27 col1\" >0.050000</td>\n",
              "    </tr>\n",
              "    <tr>\n",
              "      <th id=\"T_66090_level0_row28\" class=\"row_heading level0 row28\" >28</th>\n",
              "      <td id=\"T_66090_row28_col0\" class=\"data row28 col0\" >Remove Multicollinearity </td>\n",
              "      <td id=\"T_66090_row28_col1\" class=\"data row28 col1\" >True</td>\n",
              "    </tr>\n",
              "    <tr>\n",
              "      <th id=\"T_66090_level0_row29\" class=\"row_heading level0 row29\" >29</th>\n",
              "      <td id=\"T_66090_row29_col0\" class=\"data row29 col0\" >Multicollinearity Threshold </td>\n",
              "      <td id=\"T_66090_row29_col1\" class=\"data row29 col1\" >0.900000</td>\n",
              "    </tr>\n",
              "    <tr>\n",
              "      <th id=\"T_66090_level0_row30\" class=\"row_heading level0 row30\" >30</th>\n",
              "      <td id=\"T_66090_row30_col0\" class=\"data row30 col0\" >Clustering </td>\n",
              "      <td id=\"T_66090_row30_col1\" class=\"data row30 col1\" >False</td>\n",
              "    </tr>\n",
              "    <tr>\n",
              "      <th id=\"T_66090_level0_row31\" class=\"row_heading level0 row31\" >31</th>\n",
              "      <td id=\"T_66090_row31_col0\" class=\"data row31 col0\" >Clustering Iteration </td>\n",
              "      <td id=\"T_66090_row31_col1\" class=\"data row31 col1\" >None</td>\n",
              "    </tr>\n",
              "    <tr>\n",
              "      <th id=\"T_66090_level0_row32\" class=\"row_heading level0 row32\" >32</th>\n",
              "      <td id=\"T_66090_row32_col0\" class=\"data row32 col0\" >Polynomial Features </td>\n",
              "      <td id=\"T_66090_row32_col1\" class=\"data row32 col1\" >False</td>\n",
              "    </tr>\n",
              "    <tr>\n",
              "      <th id=\"T_66090_level0_row33\" class=\"row_heading level0 row33\" >33</th>\n",
              "      <td id=\"T_66090_row33_col0\" class=\"data row33 col0\" >Polynomial Degree </td>\n",
              "      <td id=\"T_66090_row33_col1\" class=\"data row33 col1\" >None</td>\n",
              "    </tr>\n",
              "    <tr>\n",
              "      <th id=\"T_66090_level0_row34\" class=\"row_heading level0 row34\" >34</th>\n",
              "      <td id=\"T_66090_row34_col0\" class=\"data row34 col0\" >Trignometry Features </td>\n",
              "      <td id=\"T_66090_row34_col1\" class=\"data row34 col1\" >False</td>\n",
              "    </tr>\n",
              "    <tr>\n",
              "      <th id=\"T_66090_level0_row35\" class=\"row_heading level0 row35\" >35</th>\n",
              "      <td id=\"T_66090_row35_col0\" class=\"data row35 col0\" >Polynomial Threshold </td>\n",
              "      <td id=\"T_66090_row35_col1\" class=\"data row35 col1\" >None</td>\n",
              "    </tr>\n",
              "    <tr>\n",
              "      <th id=\"T_66090_level0_row36\" class=\"row_heading level0 row36\" >36</th>\n",
              "      <td id=\"T_66090_row36_col0\" class=\"data row36 col0\" >Group Features </td>\n",
              "      <td id=\"T_66090_row36_col1\" class=\"data row36 col1\" >False</td>\n",
              "    </tr>\n",
              "    <tr>\n",
              "      <th id=\"T_66090_level0_row37\" class=\"row_heading level0 row37\" >37</th>\n",
              "      <td id=\"T_66090_row37_col0\" class=\"data row37 col0\" >Feature Selection </td>\n",
              "      <td id=\"T_66090_row37_col1\" class=\"data row37 col1\" >False</td>\n",
              "    </tr>\n",
              "    <tr>\n",
              "      <th id=\"T_66090_level0_row38\" class=\"row_heading level0 row38\" >38</th>\n",
              "      <td id=\"T_66090_row38_col0\" class=\"data row38 col0\" >Features Selection Threshold </td>\n",
              "      <td id=\"T_66090_row38_col1\" class=\"data row38 col1\" >None</td>\n",
              "    </tr>\n",
              "    <tr>\n",
              "      <th id=\"T_66090_level0_row39\" class=\"row_heading level0 row39\" >39</th>\n",
              "      <td id=\"T_66090_row39_col0\" class=\"data row39 col0\" >Feature Interaction </td>\n",
              "      <td id=\"T_66090_row39_col1\" class=\"data row39 col1\" >False</td>\n",
              "    </tr>\n",
              "    <tr>\n",
              "      <th id=\"T_66090_level0_row40\" class=\"row_heading level0 row40\" >40</th>\n",
              "      <td id=\"T_66090_row40_col0\" class=\"data row40 col0\" >Feature Ratio </td>\n",
              "      <td id=\"T_66090_row40_col1\" class=\"data row40 col1\" >False</td>\n",
              "    </tr>\n",
              "    <tr>\n",
              "      <th id=\"T_66090_level0_row41\" class=\"row_heading level0 row41\" >41</th>\n",
              "      <td id=\"T_66090_row41_col0\" class=\"data row41 col0\" >Interaction Threshold </td>\n",
              "      <td id=\"T_66090_row41_col1\" class=\"data row41 col1\" >None</td>\n",
              "    </tr>\n",
              "  </tbody>\n",
              "</table>\n"
            ]
          },
          "metadata": {}
        },
        {
          "output_type": "stream",
          "name": "stderr",
          "text": [
            "INFO:logs:create_model_container: 0\n",
            "INFO:logs:master_model_container: 0\n",
            "INFO:logs:display_container: 0\n",
            "INFO:logs:setup() succesfully completed......................................\n"
          ]
        }
      ]
    },
    {
      "cell_type": "code",
      "source": [
        "#print(setup.__doc__)"
      ],
      "metadata": {
        "id": "X09M1CvIUoLz"
      },
      "execution_count": null,
      "outputs": []
    },
    {
      "cell_type": "code",
      "source": [
        "gbest = compare_models(blacklist = ['tr'])"
      ],
      "metadata": {
        "colab": {
          "base_uri": "https://localhost:8080/",
          "height": 795,
          "referenced_widgets": [
            "e84c1eb088e541ac8ce3db39c56ec530",
            "214180c6e96447abb40d902ff2035262",
            "5c6171f863ef4972ad5f8c01640538a7"
          ]
        },
        "id": "grd0-rrgRsMI",
        "outputId": "a79593b9-9ed9-4ebd-f777-87c5fcf912b3"
      },
      "execution_count": null,
      "outputs": [
        {
          "output_type": "display_data",
          "data": {
            "text/plain": [
              "<pandas.io.formats.style.Styler at 0x7fa7ce25e7a0>"
            ],
            "text/html": [
              "<style type=\"text/css\">\n",
              "#T_5d75b th {\n",
              "  text-align: left;\n",
              "}\n",
              "#T_5d75b_row0_col0, #T_5d75b_row0_col2, #T_5d75b_row0_col3, #T_5d75b_row0_col5, #T_5d75b_row0_col6, #T_5d75b_row1_col0, #T_5d75b_row1_col1, #T_5d75b_row1_col4, #T_5d75b_row1_col5, #T_5d75b_row1_col6, #T_5d75b_row2_col0, #T_5d75b_row2_col1, #T_5d75b_row2_col2, #T_5d75b_row2_col3, #T_5d75b_row2_col4, #T_5d75b_row3_col0, #T_5d75b_row3_col1, #T_5d75b_row3_col2, #T_5d75b_row3_col3, #T_5d75b_row3_col4, #T_5d75b_row3_col5, #T_5d75b_row3_col6, #T_5d75b_row4_col0, #T_5d75b_row4_col1, #T_5d75b_row4_col2, #T_5d75b_row4_col3, #T_5d75b_row4_col4, #T_5d75b_row4_col5, #T_5d75b_row4_col6, #T_5d75b_row5_col0, #T_5d75b_row5_col1, #T_5d75b_row5_col2, #T_5d75b_row5_col3, #T_5d75b_row5_col4, #T_5d75b_row5_col5, #T_5d75b_row5_col6, #T_5d75b_row6_col0, #T_5d75b_row6_col1, #T_5d75b_row6_col2, #T_5d75b_row6_col3, #T_5d75b_row6_col4, #T_5d75b_row6_col5, #T_5d75b_row6_col6, #T_5d75b_row7_col0, #T_5d75b_row7_col1, #T_5d75b_row7_col2, #T_5d75b_row7_col3, #T_5d75b_row7_col4, #T_5d75b_row7_col5, #T_5d75b_row7_col6, #T_5d75b_row8_col0, #T_5d75b_row8_col1, #T_5d75b_row8_col2, #T_5d75b_row8_col3, #T_5d75b_row8_col4, #T_5d75b_row8_col5, #T_5d75b_row8_col6, #T_5d75b_row9_col0, #T_5d75b_row9_col1, #T_5d75b_row9_col2, #T_5d75b_row9_col3, #T_5d75b_row9_col4, #T_5d75b_row9_col5, #T_5d75b_row9_col6, #T_5d75b_row10_col0, #T_5d75b_row10_col1, #T_5d75b_row10_col2, #T_5d75b_row10_col3, #T_5d75b_row10_col4, #T_5d75b_row10_col5, #T_5d75b_row10_col6, #T_5d75b_row11_col0, #T_5d75b_row11_col1, #T_5d75b_row11_col2, #T_5d75b_row11_col3, #T_5d75b_row11_col4, #T_5d75b_row11_col5, #T_5d75b_row11_col6, #T_5d75b_row12_col0, #T_5d75b_row12_col1, #T_5d75b_row12_col2, #T_5d75b_row12_col3, #T_5d75b_row12_col4, #T_5d75b_row12_col5, #T_5d75b_row12_col6, #T_5d75b_row13_col0, #T_5d75b_row13_col1, #T_5d75b_row13_col2, #T_5d75b_row13_col3, #T_5d75b_row13_col4, #T_5d75b_row13_col5, #T_5d75b_row13_col6, #T_5d75b_row14_col0, #T_5d75b_row14_col1, #T_5d75b_row14_col2, #T_5d75b_row14_col3, #T_5d75b_row14_col4, #T_5d75b_row14_col5, #T_5d75b_row14_col6, #T_5d75b_row15_col0, #T_5d75b_row15_col1, #T_5d75b_row15_col2, #T_5d75b_row15_col3, #T_5d75b_row15_col4, #T_5d75b_row15_col5, #T_5d75b_row15_col6, #T_5d75b_row16_col0, #T_5d75b_row16_col1, #T_5d75b_row16_col2, #T_5d75b_row16_col3, #T_5d75b_row16_col4, #T_5d75b_row16_col5, #T_5d75b_row16_col6, #T_5d75b_row17_col0, #T_5d75b_row17_col1, #T_5d75b_row17_col2, #T_5d75b_row17_col3, #T_5d75b_row17_col4, #T_5d75b_row17_col5, #T_5d75b_row17_col6, #T_5d75b_row18_col0, #T_5d75b_row18_col1, #T_5d75b_row18_col2, #T_5d75b_row18_col3, #T_5d75b_row18_col4, #T_5d75b_row18_col5, #T_5d75b_row18_col6, #T_5d75b_row19_col0, #T_5d75b_row19_col1, #T_5d75b_row19_col2, #T_5d75b_row19_col3, #T_5d75b_row19_col4, #T_5d75b_row19_col5, #T_5d75b_row19_col6, #T_5d75b_row20_col0, #T_5d75b_row20_col1, #T_5d75b_row20_col2, #T_5d75b_row20_col3, #T_5d75b_row20_col4, #T_5d75b_row20_col5, #T_5d75b_row20_col6 {\n",
              "  text-align: left;\n",
              "}\n",
              "#T_5d75b_row0_col1, #T_5d75b_row0_col4, #T_5d75b_row1_col2, #T_5d75b_row1_col3, #T_5d75b_row2_col5, #T_5d75b_row2_col6 {\n",
              "  background-color: yellow;\n",
              "  text-align: left;\n",
              "}\n",
              "#T_5d75b_row0_col7, #T_5d75b_row1_col7, #T_5d75b_row2_col7, #T_5d75b_row3_col7, #T_5d75b_row4_col7, #T_5d75b_row5_col7, #T_5d75b_row6_col7, #T_5d75b_row7_col7, #T_5d75b_row8_col7, #T_5d75b_row9_col7, #T_5d75b_row10_col7, #T_5d75b_row11_col7, #T_5d75b_row12_col7, #T_5d75b_row13_col7, #T_5d75b_row14_col7, #T_5d75b_row15_col7, #T_5d75b_row16_col7, #T_5d75b_row17_col7, #T_5d75b_row18_col7, #T_5d75b_row19_col7, #T_5d75b_row20_col7 {\n",
              "  background-color: lightgrey;\n",
              "  text-align: left;\n",
              "}\n",
              "</style>\n",
              "<table id=\"T_5d75b\" class=\"dataframe\">\n",
              "  <thead>\n",
              "    <tr>\n",
              "      <th class=\"blank level0\" >&nbsp;</th>\n",
              "      <th id=\"T_5d75b_level0_col0\" class=\"col_heading level0 col0\" >Model</th>\n",
              "      <th id=\"T_5d75b_level0_col1\" class=\"col_heading level0 col1\" >MAE</th>\n",
              "      <th id=\"T_5d75b_level0_col2\" class=\"col_heading level0 col2\" >MSE</th>\n",
              "      <th id=\"T_5d75b_level0_col3\" class=\"col_heading level0 col3\" >RMSE</th>\n",
              "      <th id=\"T_5d75b_level0_col4\" class=\"col_heading level0 col4\" >R2</th>\n",
              "      <th id=\"T_5d75b_level0_col5\" class=\"col_heading level0 col5\" >RMSLE</th>\n",
              "      <th id=\"T_5d75b_level0_col6\" class=\"col_heading level0 col6\" >MAPE</th>\n",
              "      <th id=\"T_5d75b_level0_col7\" class=\"col_heading level0 col7\" >TT (Sec)</th>\n",
              "    </tr>\n",
              "  </thead>\n",
              "  <tbody>\n",
              "    <tr>\n",
              "      <th id=\"T_5d75b_level0_row0\" class=\"row_heading level0 row0\" >0</th>\n",
              "      <td id=\"T_5d75b_row0_col0\" class=\"data row0 col0\" >CatBoost Regressor</td>\n",
              "      <td id=\"T_5d75b_row0_col1\" class=\"data row0 col1\" >15816.1636</td>\n",
              "      <td id=\"T_5d75b_row0_col2\" class=\"data row0 col2\" >587587228.0542</td>\n",
              "      <td id=\"T_5d75b_row0_col3\" class=\"data row0 col3\" >23910.5741</td>\n",
              "      <td id=\"T_5d75b_row0_col4\" class=\"data row0 col4\" >0.8845</td>\n",
              "      <td id=\"T_5d75b_row0_col5\" class=\"data row0 col5\" >0.1304</td>\n",
              "      <td id=\"T_5d75b_row0_col6\" class=\"data row0 col6\" >0.0942</td>\n",
              "      <td id=\"T_5d75b_row0_col7\" class=\"data row0 col7\" >4.9788</td>\n",
              "    </tr>\n",
              "    <tr>\n",
              "      <th id=\"T_5d75b_level0_row1\" class=\"row_heading level0 row1\" >1</th>\n",
              "      <td id=\"T_5d75b_row1_col0\" class=\"data row1 col0\" >Ridge Regression</td>\n",
              "      <td id=\"T_5d75b_row1_col1\" class=\"data row1 col1\" >16607.6109</td>\n",
              "      <td id=\"T_5d75b_row1_col2\" class=\"data row1 col2\" >574524009.8760</td>\n",
              "      <td id=\"T_5d75b_row1_col3\" class=\"data row1 col3\" >23709.6249</td>\n",
              "      <td id=\"T_5d75b_row1_col4\" class=\"data row1 col4\" >0.8836</td>\n",
              "      <td id=\"T_5d75b_row1_col5\" class=\"data row1 col5\" >0.1368</td>\n",
              "      <td id=\"T_5d75b_row1_col6\" class=\"data row1 col6\" >0.0993</td>\n",
              "      <td id=\"T_5d75b_row1_col7\" class=\"data row1 col7\" >0.0237</td>\n",
              "    </tr>\n",
              "    <tr>\n",
              "      <th id=\"T_5d75b_level0_row2\" class=\"row_heading level0 row2\" >2</th>\n",
              "      <td id=\"T_5d75b_row2_col0\" class=\"data row2 col0\" >Huber Regressor</td>\n",
              "      <td id=\"T_5d75b_row2_col1\" class=\"data row2 col1\" >16055.5025</td>\n",
              "      <td id=\"T_5d75b_row2_col2\" class=\"data row2 col2\" >592159311.4797</td>\n",
              "      <td id=\"T_5d75b_row2_col3\" class=\"data row2 col3\" >24030.2615</td>\n",
              "      <td id=\"T_5d75b_row2_col4\" class=\"data row2 col4\" >0.8834</td>\n",
              "      <td id=\"T_5d75b_row2_col5\" class=\"data row2 col5\" >0.1300</td>\n",
              "      <td id=\"T_5d75b_row2_col6\" class=\"data row2 col6\" >0.0940</td>\n",
              "      <td id=\"T_5d75b_row2_col7\" class=\"data row2 col7\" >0.1249</td>\n",
              "    </tr>\n",
              "    <tr>\n",
              "      <th id=\"T_5d75b_level0_row3\" class=\"row_heading level0 row3\" >3</th>\n",
              "      <td id=\"T_5d75b_row3_col0\" class=\"data row3 col0\" >Bayesian Ridge</td>\n",
              "      <td id=\"T_5d75b_row3_col1\" class=\"data row3 col1\" >16654.9404</td>\n",
              "      <td id=\"T_5d75b_row3_col2\" class=\"data row3 col2\" >579649071.3742</td>\n",
              "      <td id=\"T_5d75b_row3_col3\" class=\"data row3 col3\" >23822.1856</td>\n",
              "      <td id=\"T_5d75b_row3_col4\" class=\"data row3 col4\" >0.8833</td>\n",
              "      <td id=\"T_5d75b_row3_col5\" class=\"data row3 col5\" >0.1368</td>\n",
              "      <td id=\"T_5d75b_row3_col6\" class=\"data row3 col6\" >0.0998</td>\n",
              "      <td id=\"T_5d75b_row3_col7\" class=\"data row3 col7\" >0.0533</td>\n",
              "    </tr>\n",
              "    <tr>\n",
              "      <th id=\"T_5d75b_level0_row4\" class=\"row_heading level0 row4\" >4</th>\n",
              "      <td id=\"T_5d75b_row4_col0\" class=\"data row4 col0\" >Lasso Regression</td>\n",
              "      <td id=\"T_5d75b_row4_col1\" class=\"data row4 col1\" >16683.8840</td>\n",
              "      <td id=\"T_5d75b_row4_col2\" class=\"data row4 col2\" >581082260.5725</td>\n",
              "      <td id=\"T_5d75b_row4_col3\" class=\"data row4 col3\" >23823.4130</td>\n",
              "      <td id=\"T_5d75b_row4_col4\" class=\"data row4 col4\" >0.8816</td>\n",
              "      <td id=\"T_5d75b_row4_col5\" class=\"data row4 col5\" >0.1377</td>\n",
              "      <td id=\"T_5d75b_row4_col6\" class=\"data row4 col6\" >0.0996</td>\n",
              "      <td id=\"T_5d75b_row4_col7\" class=\"data row4 col7\" >0.2336</td>\n",
              "    </tr>\n",
              "    <tr>\n",
              "      <th id=\"T_5d75b_level0_row5\" class=\"row_heading level0 row5\" >5</th>\n",
              "      <td id=\"T_5d75b_row5_col0\" class=\"data row5 col0\" >Lasso Least Angle Regression</td>\n",
              "      <td id=\"T_5d75b_row5_col1\" class=\"data row5 col1\" >16684.6080</td>\n",
              "      <td id=\"T_5d75b_row5_col2\" class=\"data row5 col2\" >581199608.9124</td>\n",
              "      <td id=\"T_5d75b_row5_col3\" class=\"data row5 col3\" >23825.6365</td>\n",
              "      <td id=\"T_5d75b_row5_col4\" class=\"data row5 col4\" >0.8815</td>\n",
              "      <td id=\"T_5d75b_row5_col5\" class=\"data row5 col5\" >0.1377</td>\n",
              "      <td id=\"T_5d75b_row5_col6\" class=\"data row5 col6\" >0.0996</td>\n",
              "      <td id=\"T_5d75b_row5_col7\" class=\"data row5 col7\" >0.0568</td>\n",
              "    </tr>\n",
              "    <tr>\n",
              "      <th id=\"T_5d75b_level0_row6\" class=\"row_heading level0 row6\" >6</th>\n",
              "      <td id=\"T_5d75b_row6_col0\" class=\"data row6 col0\" >Linear Regression</td>\n",
              "      <td id=\"T_5d75b_row6_col1\" class=\"data row6 col1\" >16695.1541</td>\n",
              "      <td id=\"T_5d75b_row6_col2\" class=\"data row6 col2\" >581653238.6920</td>\n",
              "      <td id=\"T_5d75b_row6_col3\" class=\"data row6 col3\" >23834.7998</td>\n",
              "      <td id=\"T_5d75b_row6_col4\" class=\"data row6 col4\" >0.8814</td>\n",
              "      <td id=\"T_5d75b_row6_col5\" class=\"data row6 col5\" >0.1378</td>\n",
              "      <td id=\"T_5d75b_row6_col6\" class=\"data row6 col6\" >0.0997</td>\n",
              "      <td id=\"T_5d75b_row6_col7\" class=\"data row6 col7\" >0.0525</td>\n",
              "    </tr>\n",
              "    <tr>\n",
              "      <th id=\"T_5d75b_level0_row7\" class=\"row_heading level0 row7\" >7</th>\n",
              "      <td id=\"T_5d75b_row7_col0\" class=\"data row7 col0\" >Random Sample Consensus</td>\n",
              "      <td id=\"T_5d75b_row7_col1\" class=\"data row7 col1\" >16498.7765</td>\n",
              "      <td id=\"T_5d75b_row7_col2\" class=\"data row7 col2\" >598651124.7283</td>\n",
              "      <td id=\"T_5d75b_row7_col3\" class=\"data row7 col3\" >24243.6730</td>\n",
              "      <td id=\"T_5d75b_row7_col4\" class=\"data row7 col4\" >0.8788</td>\n",
              "      <td id=\"T_5d75b_row7_col5\" class=\"data row7 col5\" >0.1364</td>\n",
              "      <td id=\"T_5d75b_row7_col6\" class=\"data row7 col6\" >0.0977</td>\n",
              "      <td id=\"T_5d75b_row7_col7\" class=\"data row7 col7\" >1.4099</td>\n",
              "    </tr>\n",
              "    <tr>\n",
              "      <th id=\"T_5d75b_level0_row8\" class=\"row_heading level0 row8\" >8</th>\n",
              "      <td id=\"T_5d75b_row8_col0\" class=\"data row8 col0\" >Gradient Boosting Regressor</td>\n",
              "      <td id=\"T_5d75b_row8_col1\" class=\"data row8 col1\" >16876.4568</td>\n",
              "      <td id=\"T_5d75b_row8_col2\" class=\"data row8 col2\" >665532123.1414</td>\n",
              "      <td id=\"T_5d75b_row8_col3\" class=\"data row8 col3\" >25432.3858</td>\n",
              "      <td id=\"T_5d75b_row8_col4\" class=\"data row8 col4\" >0.8680</td>\n",
              "      <td id=\"T_5d75b_row8_col5\" class=\"data row8 col5\" >0.1383</td>\n",
              "      <td id=\"T_5d75b_row8_col6\" class=\"data row8 col6\" >0.1004</td>\n",
              "      <td id=\"T_5d75b_row8_col7\" class=\"data row8 col7\" >0.6336</td>\n",
              "    </tr>\n",
              "    <tr>\n",
              "      <th id=\"T_5d75b_level0_row9\" class=\"row_heading level0 row9\" >9</th>\n",
              "      <td id=\"T_5d75b_row9_col0\" class=\"data row9 col0\" >Light Gradient Boosting Machine</td>\n",
              "      <td id=\"T_5d75b_row9_col1\" class=\"data row9 col1\" >17644.8915</td>\n",
              "      <td id=\"T_5d75b_row9_col2\" class=\"data row9 col2\" >712397732.5537</td>\n",
              "      <td id=\"T_5d75b_row9_col3\" class=\"data row9 col3\" >26362.8355</td>\n",
              "      <td id=\"T_5d75b_row9_col4\" class=\"data row9 col4\" >0.8563</td>\n",
              "      <td id=\"T_5d75b_row9_col5\" class=\"data row9 col5\" >0.1444</td>\n",
              "      <td id=\"T_5d75b_row9_col6\" class=\"data row9 col6\" >0.1049</td>\n",
              "      <td id=\"T_5d75b_row9_col7\" class=\"data row9 col7\" >0.1736</td>\n",
              "    </tr>\n",
              "    <tr>\n",
              "      <th id=\"T_5d75b_level0_row10\" class=\"row_heading level0 row10\" >10</th>\n",
              "      <td id=\"T_5d75b_row10_col0\" class=\"data row10 col0\" >Random Forest</td>\n",
              "      <td id=\"T_5d75b_row10_col1\" class=\"data row10 col1\" >18187.9016</td>\n",
              "      <td id=\"T_5d75b_row10_col2\" class=\"data row10 col2\" >762796256.8583</td>\n",
              "      <td id=\"T_5d75b_row10_col3\" class=\"data row10 col3\" >27257.1804</td>\n",
              "      <td id=\"T_5d75b_row10_col4\" class=\"data row10 col4\" >0.8504</td>\n",
              "      <td id=\"T_5d75b_row10_col5\" class=\"data row10 col5\" >0.1500</td>\n",
              "      <td id=\"T_5d75b_row10_col6\" class=\"data row10 col6\" >0.1094</td>\n",
              "      <td id=\"T_5d75b_row10_col7\" class=\"data row10 col7\" >1.2125</td>\n",
              "    </tr>\n",
              "    <tr>\n",
              "      <th id=\"T_5d75b_level0_row11\" class=\"row_heading level0 row11\" >11</th>\n",
              "      <td id=\"T_5d75b_row11_col0\" class=\"data row11 col0\" >Passive Aggressive Regressor</td>\n",
              "      <td id=\"T_5d75b_row11_col1\" class=\"data row11 col1\" >18754.9139</td>\n",
              "      <td id=\"T_5d75b_row11_col2\" class=\"data row11 col2\" >840918400.1382</td>\n",
              "      <td id=\"T_5d75b_row11_col3\" class=\"data row11 col3\" >28306.5242</td>\n",
              "      <td id=\"T_5d75b_row11_col4\" class=\"data row11 col4\" >0.8412</td>\n",
              "      <td id=\"T_5d75b_row11_col5\" class=\"data row11 col5\" >0.1473</td>\n",
              "      <td id=\"T_5d75b_row11_col6\" class=\"data row11 col6\" >0.1083</td>\n",
              "      <td id=\"T_5d75b_row11_col7\" class=\"data row11 col7\" >0.3920</td>\n",
              "    </tr>\n",
              "    <tr>\n",
              "      <th id=\"T_5d75b_level0_row12\" class=\"row_heading level0 row12\" >12</th>\n",
              "      <td id=\"T_5d75b_row12_col0\" class=\"data row12 col0\" >Extreme Gradient Boosting</td>\n",
              "      <td id=\"T_5d75b_row12_col1\" class=\"data row12 col1\" >18653.0941</td>\n",
              "      <td id=\"T_5d75b_row12_col2\" class=\"data row12 col2\" >808202933.7228</td>\n",
              "      <td id=\"T_5d75b_row12_col3\" class=\"data row12 col3\" >28045.2715</td>\n",
              "      <td id=\"T_5d75b_row12_col4\" class=\"data row12 col4\" >0.8375</td>\n",
              "      <td id=\"T_5d75b_row12_col5\" class=\"data row12 col5\" >0.1532</td>\n",
              "      <td id=\"T_5d75b_row12_col6\" class=\"data row12 col6\" >0.1099</td>\n",
              "      <td id=\"T_5d75b_row12_col7\" class=\"data row12 col7\" >0.6802</td>\n",
              "    </tr>\n",
              "    <tr>\n",
              "      <th id=\"T_5d75b_level0_row13\" class=\"row_heading level0 row13\" >13</th>\n",
              "      <td id=\"T_5d75b_row13_col0\" class=\"data row13 col0\" >Extra Trees Regressor</td>\n",
              "      <td id=\"T_5d75b_row13_col1\" class=\"data row13 col1\" >19661.9342</td>\n",
              "      <td id=\"T_5d75b_row13_col2\" class=\"data row13 col2\" >906378470.2940</td>\n",
              "      <td id=\"T_5d75b_row13_col3\" class=\"data row13 col3\" >29698.0568</td>\n",
              "      <td id=\"T_5d75b_row13_col4\" class=\"data row13 col4\" >0.8202</td>\n",
              "      <td id=\"T_5d75b_row13_col5\" class=\"data row13 col5\" >0.1609</td>\n",
              "      <td id=\"T_5d75b_row13_col6\" class=\"data row13 col6\" >0.1172</td>\n",
              "      <td id=\"T_5d75b_row13_col7\" class=\"data row13 col7\" >0.8173</td>\n",
              "    </tr>\n",
              "    <tr>\n",
              "      <th id=\"T_5d75b_level0_row14\" class=\"row_heading level0 row14\" >14</th>\n",
              "      <td id=\"T_5d75b_row14_col0\" class=\"data row14 col0\" >Elastic Net</td>\n",
              "      <td id=\"T_5d75b_row14_col1\" class=\"data row14 col1\" >20099.7624</td>\n",
              "      <td id=\"T_5d75b_row14_col2\" class=\"data row14 col2\" >955125007.1209</td>\n",
              "      <td id=\"T_5d75b_row14_col3\" class=\"data row14 col3\" >30317.4014</td>\n",
              "      <td id=\"T_5d75b_row14_col4\" class=\"data row14 col4\" >0.8172</td>\n",
              "      <td id=\"T_5d75b_row14_col5\" class=\"data row14 col5\" >0.1601</td>\n",
              "      <td id=\"T_5d75b_row14_col6\" class=\"data row14 col6\" >0.1186</td>\n",
              "      <td id=\"T_5d75b_row14_col7\" class=\"data row14 col7\" >0.0186</td>\n",
              "    </tr>\n",
              "    <tr>\n",
              "      <th id=\"T_5d75b_level0_row15\" class=\"row_heading level0 row15\" >15</th>\n",
              "      <td id=\"T_5d75b_row15_col0\" class=\"data row15 col0\" >K Neighbors Regressor</td>\n",
              "      <td id=\"T_5d75b_row15_col1\" class=\"data row15 col1\" >20131.4186</td>\n",
              "      <td id=\"T_5d75b_row15_col2\" class=\"data row15 col2\" >931325986.1255</td>\n",
              "      <td id=\"T_5d75b_row15_col3\" class=\"data row15 col3\" >30079.9125</td>\n",
              "      <td id=\"T_5d75b_row15_col4\" class=\"data row15 col4\" >0.8164</td>\n",
              "      <td id=\"T_5d75b_row15_col5\" class=\"data row15 col5\" >0.1628</td>\n",
              "      <td id=\"T_5d75b_row15_col6\" class=\"data row15 col6\" >0.1187</td>\n",
              "      <td id=\"T_5d75b_row15_col7\" class=\"data row15 col7\" >0.0106</td>\n",
              "    </tr>\n",
              "    <tr>\n",
              "      <th id=\"T_5d75b_level0_row16\" class=\"row_heading level0 row16\" >16</th>\n",
              "      <td id=\"T_5d75b_row16_col0\" class=\"data row16 col0\" >Orthogonal Matching Pursuit</td>\n",
              "      <td id=\"T_5d75b_row16_col1\" class=\"data row16 col1\" >21490.5151</td>\n",
              "      <td id=\"T_5d75b_row16_col2\" class=\"data row16 col2\" >943716815.0083</td>\n",
              "      <td id=\"T_5d75b_row16_col3\" class=\"data row16 col3\" >30475.9275</td>\n",
              "      <td id=\"T_5d75b_row16_col4\" class=\"data row16 col4\" >0.8120</td>\n",
              "      <td id=\"T_5d75b_row16_col5\" class=\"data row16 col5\" >0.1810</td>\n",
              "      <td id=\"T_5d75b_row16_col6\" class=\"data row16 col6\" >0.1313</td>\n",
              "      <td id=\"T_5d75b_row16_col7\" class=\"data row16 col7\" >0.0151</td>\n",
              "    </tr>\n",
              "    <tr>\n",
              "      <th id=\"T_5d75b_level0_row17\" class=\"row_heading level0 row17\" >17</th>\n",
              "      <td id=\"T_5d75b_row17_col0\" class=\"data row17 col0\" >AdaBoost Regressor</td>\n",
              "      <td id=\"T_5d75b_row17_col1\" class=\"data row17 col1\" >23529.1781</td>\n",
              "      <td id=\"T_5d75b_row17_col2\" class=\"data row17 col2\" >1067860375.5379</td>\n",
              "      <td id=\"T_5d75b_row17_col3\" class=\"data row17 col3\" >32514.9881</td>\n",
              "      <td id=\"T_5d75b_row17_col4\" class=\"data row17 col4\" >0.7846</td>\n",
              "      <td id=\"T_5d75b_row17_col5\" class=\"data row17 col5\" >0.1893</td>\n",
              "      <td id=\"T_5d75b_row17_col6\" class=\"data row17 col6\" >0.1513</td>\n",
              "      <td id=\"T_5d75b_row17_col7\" class=\"data row17 col7\" >0.2326</td>\n",
              "    </tr>\n",
              "    <tr>\n",
              "      <th id=\"T_5d75b_level0_row18\" class=\"row_heading level0 row18\" >18</th>\n",
              "      <td id=\"T_5d75b_row18_col0\" class=\"data row18 col0\" >Decision Tree</td>\n",
              "      <td id=\"T_5d75b_row18_col1\" class=\"data row18 col1\" >25288.0732</td>\n",
              "      <td id=\"T_5d75b_row18_col2\" class=\"data row18 col2\" >1387291395.6196</td>\n",
              "      <td id=\"T_5d75b_row18_col3\" class=\"data row18 col3\" >36787.8306</td>\n",
              "      <td id=\"T_5d75b_row18_col4\" class=\"data row18 col4\" >0.7196</td>\n",
              "      <td id=\"T_5d75b_row18_col5\" class=\"data row18 col5\" >0.2083</td>\n",
              "      <td id=\"T_5d75b_row18_col6\" class=\"data row18 col6\" >0.1515</td>\n",
              "      <td id=\"T_5d75b_row18_col7\" class=\"data row18 col7\" >0.0273</td>\n",
              "    </tr>\n",
              "    <tr>\n",
              "      <th id=\"T_5d75b_level0_row19\" class=\"row_heading level0 row19\" >19</th>\n",
              "      <td id=\"T_5d75b_row19_col0\" class=\"data row19 col0\" >Support Vector Machine</td>\n",
              "      <td id=\"T_5d75b_row19_col1\" class=\"data row19 col1\" >52412.7997</td>\n",
              "      <td id=\"T_5d75b_row19_col2\" class=\"data row19 col2\" >5449336415.4931</td>\n",
              "      <td id=\"T_5d75b_row19_col3\" class=\"data row19 col3\" >73129.4823</td>\n",
              "      <td id=\"T_5d75b_row19_col4\" class=\"data row19 col4\" >-0.0729</td>\n",
              "      <td id=\"T_5d75b_row19_col5\" class=\"data row19 col5\" >0.3759</td>\n",
              "      <td id=\"T_5d75b_row19_col6\" class=\"data row19 col6\" >0.2986</td>\n",
              "      <td id=\"T_5d75b_row19_col7\" class=\"data row19 col7\" >0.0674</td>\n",
              "    </tr>\n",
              "    <tr>\n",
              "      <th id=\"T_5d75b_level0_row20\" class=\"row_heading level0 row20\" >20</th>\n",
              "      <td id=\"T_5d75b_row20_col0\" class=\"data row20 col0\" >Least Angle Regression</td>\n",
              "      <td id=\"T_5d75b_row20_col1\" class=\"data row20 col1\" >1407818793107111.5000</td>\n",
              "      <td id=\"T_5d75b_row20_col2\" class=\"data row20 col2\" >42190232528983419994820929650688.0000</td>\n",
              "      <td id=\"T_5d75b_row20_col3\" class=\"data row20 col3\" >2057123682829200.2500</td>\n",
              "      <td id=\"T_5d75b_row20_col4\" class=\"data row20 col4\" >-11698001077631730057216.0000</td>\n",
              "      <td id=\"T_5d75b_row20_col5\" class=\"data row20 col5\" >9.5052</td>\n",
              "      <td id=\"T_5d75b_row20_col6\" class=\"data row20 col6\" >9700066400.9257</td>\n",
              "      <td id=\"T_5d75b_row20_col7\" class=\"data row20 col7\" >0.0666</td>\n",
              "    </tr>\n",
              "  </tbody>\n",
              "</table>\n"
            ]
          },
          "metadata": {}
        },
        {
          "output_type": "stream",
          "name": "stderr",
          "text": [
            "INFO:logs:create_model_container: 1\n",
            "INFO:logs:master_model_container: 1\n",
            "INFO:logs:display_container: 2\n",
            "INFO:logs:<catboost.core.CatBoostRegressor object at 0x7fa7ce2d54e0>\n",
            "INFO:logs:compare_models() succesfully completed......................................\n"
          ]
        }
      ]
    },
    {
      "cell_type": "code",
      "source": [
        "predictions = predict_model(gbest, X_val)"
      ],
      "metadata": {
        "id": "1tbkCtxIVyAE"
      },
      "execution_count": null,
      "outputs": []
    },
    {
      "cell_type": "code",
      "source": [
        "predictions"
      ],
      "metadata": {
        "colab": {
          "base_uri": "https://localhost:8080/"
        },
        "id": "2Cpa32n0XkO3",
        "outputId": "d9ab472f-cc8f-4128-ba36-b0b7cf5781b5"
      },
      "execution_count": null,
      "outputs": [
        {
          "output_type": "execute_result",
          "data": {
            "text/plain": [
              "0      145236.2016\n",
              "1      320693.2719\n",
              "2      113118.5960\n",
              "3      155160.2310\n",
              "4      311176.9582\n",
              "          ...     \n",
              "141    136165.0401\n",
              "142    174938.5681\n",
              "143    148684.5713\n",
              "144    143249.2588\n",
              "145    132300.6363\n",
              "Name: Label, Length: 146, dtype: float64"
            ]
          },
          "metadata": {},
          "execution_count": 149
        }
      ]
    },
    {
      "cell_type": "code",
      "source": [
        "mean_squared_error(y_val, predictions[\"Label\"], squared=False)"
      ],
      "metadata": {
        "colab": {
          "base_uri": "https://localhost:8080/"
        },
        "id": "fxpMlfo8XmFj",
        "outputId": "9e2cdc79-fd58-48f5-9585-5ef2832b1a79"
      },
      "execution_count": null,
      "outputs": [
        {
          "output_type": "execute_result",
          "data": {
            "text/plain": [
              "34050.10741808393"
            ]
          },
          "metadata": {},
          "execution_count": 150
        }
      ]
    },
    {
      "cell_type": "code",
      "source": [
        "mean_absolute_error(y_val, predictions[\"Label\"])"
      ],
      "metadata": {
        "colab": {
          "base_uri": "https://localhost:8080/"
        },
        "id": "Itf-SxIdXyuL",
        "outputId": "c36de321-7625-401d-971b-14b7ad7dbc74"
      },
      "execution_count": null,
      "outputs": [
        {
          "output_type": "execute_result",
          "data": {
            "text/plain": [
              "10985.168515068495"
            ]
          },
          "metadata": {},
          "execution_count": 151
        }
      ]
    },
    {
      "cell_type": "code",
      "source": [],
      "metadata": {
        "id": "291zwcmoX9fc"
      },
      "execution_count": null,
      "outputs": []
    },
    {
      "cell_type": "markdown",
      "source": [
        "## Sklearn + Hyperparam Grid Search + Cross Validation + XGboost\n",
        "\n",
        "\n"
      ],
      "metadata": {
        "id": "HqgTn2Z-TUWs"
      }
    },
    {
      "cell_type": "code",
      "source": [
        "import numpy as np\n",
        "import pandas as pd\n",
        "from sklearn.model_selection import GridSearchCV\n",
        "from xgboost import XGBRegressor\n",
        "from sklearn.metrics import mean_squared_error\n",
        "from sklearn.model_selection import KFold\n",
        "\n",
        "# Define the parameter grid for tuning\n",
        "param_grid = {\n",
        "    'learning_rate': [0.1, 0.01],\n",
        "    'max_depth': [3, 5],\n",
        "    'n_estimators': [50, 100],\n",
        "    'subsample': [0.8],\n",
        "    'colsample_bytree': [0.8]\n",
        "}\n",
        "\n",
        "# Initialize the XGBoost regressor\n",
        "xgb = XGBRegressor(objective='reg:squarederror')\n",
        "\n",
        "# Perform grid search with cross-validation\n",
        "kf = KFold(n_splits=5, shuffle=True, random_state=42)  # Define your desired number of folds\n",
        "grid_search = GridSearchCV(estimator=xgb, param_grid=param_grid, scoring='neg_mean_squared_error', cv=kf)\n",
        "\n",
        "# Fit the grid search to the data\n",
        "grid_search.fit(X, y, verbose=True)\n",
        "\n",
        "# Get the best model and its parameters\n",
        "best_model = grid_search.best_estimator_\n",
        "best_params = grid_search.best_params_\n",
        "\n",
        "# Print the best parameters\n",
        "print(\"Best Parameters:\", best_params)\n",
        "\n",
        "# Calculate and print the mean squared error (MSE) for the best model\n",
        "y_pred = best_model.predict(X)\n",
        "mse = mean_squared_error(y, y_pred)\n",
        "print(\"Mean Squared Error:\", mse)\n"
      ],
      "metadata": {
        "colab": {
          "base_uri": "https://localhost:8080/"
        },
        "id": "oRvsOh7ScvVt",
        "outputId": "cb9847fd-8b09-4672-d8ba-14d4823d745f"
      },
      "execution_count": null,
      "outputs": [
        {
          "output_type": "stream",
          "name": "stdout",
          "text": [
            "Best Parameters: {'colsample_bytree': 0.8, 'learning_rate': 0.1, 'max_depth': 5, 'n_estimators': 50, 'subsample': 0.8}\n",
            "Mean Squared Error: 182941105.48443502\n"
          ]
        }
      ]
    },
    {
      "cell_type": "code",
      "source": [
        "xgboost_model =XGBRegressor(**best_params)"
      ],
      "metadata": {
        "id": "48Jp8tgbc9eh"
      },
      "execution_count": null,
      "outputs": []
    },
    {
      "cell_type": "code",
      "source": [
        "xgboost_model.fit(X_train, y_train)"
      ],
      "metadata": {
        "colab": {
          "base_uri": "https://localhost:8080/",
          "height": 248
        },
        "id": "HpeTOlJEgQf0",
        "outputId": "2e1fb306-576b-4f2c-9946-f237889712eb"
      },
      "execution_count": null,
      "outputs": [
        {
          "output_type": "execute_result",
          "data": {
            "text/plain": [
              "XGBRegressor(base_score=None, booster=None, callbacks=None,\n",
              "             colsample_bylevel=None, colsample_bynode=None,\n",
              "             colsample_bytree=0.8, early_stopping_rounds=None,\n",
              "             enable_categorical=False, eval_metric=None, feature_types=None,\n",
              "             gamma=None, gpu_id=None, grow_policy=None, importance_type=None,\n",
              "             interaction_constraints=None, learning_rate=0.1, max_bin=None,\n",
              "             max_cat_threshold=None, max_cat_to_onehot=None,\n",
              "             max_delta_step=None, max_depth=5, max_leaves=None,\n",
              "             min_child_weight=None, missing=nan, monotone_constraints=None,\n",
              "             n_estimators=50, n_jobs=None, num_parallel_tree=None,\n",
              "             predictor=None, random_state=None, ...)"
            ],
            "text/html": [
              "<style>#sk-container-id-3 {color: black;background-color: white;}#sk-container-id-3 pre{padding: 0;}#sk-container-id-3 div.sk-toggleable {background-color: white;}#sk-container-id-3 label.sk-toggleable__label {cursor: pointer;display: block;width: 100%;margin-bottom: 0;padding: 0.3em;box-sizing: border-box;text-align: center;}#sk-container-id-3 label.sk-toggleable__label-arrow:before {content: \"▸\";float: left;margin-right: 0.25em;color: #696969;}#sk-container-id-3 label.sk-toggleable__label-arrow:hover:before {color: black;}#sk-container-id-3 div.sk-estimator:hover label.sk-toggleable__label-arrow:before {color: black;}#sk-container-id-3 div.sk-toggleable__content {max-height: 0;max-width: 0;overflow: hidden;text-align: left;background-color: #f0f8ff;}#sk-container-id-3 div.sk-toggleable__content pre {margin: 0.2em;color: black;border-radius: 0.25em;background-color: #f0f8ff;}#sk-container-id-3 input.sk-toggleable__control:checked~div.sk-toggleable__content {max-height: 200px;max-width: 100%;overflow: auto;}#sk-container-id-3 input.sk-toggleable__control:checked~label.sk-toggleable__label-arrow:before {content: \"▾\";}#sk-container-id-3 div.sk-estimator input.sk-toggleable__control:checked~label.sk-toggleable__label {background-color: #d4ebff;}#sk-container-id-3 div.sk-label input.sk-toggleable__control:checked~label.sk-toggleable__label {background-color: #d4ebff;}#sk-container-id-3 input.sk-hidden--visually {border: 0;clip: rect(1px 1px 1px 1px);clip: rect(1px, 1px, 1px, 1px);height: 1px;margin: -1px;overflow: hidden;padding: 0;position: absolute;width: 1px;}#sk-container-id-3 div.sk-estimator {font-family: monospace;background-color: #f0f8ff;border: 1px dotted black;border-radius: 0.25em;box-sizing: border-box;margin-bottom: 0.5em;}#sk-container-id-3 div.sk-estimator:hover {background-color: #d4ebff;}#sk-container-id-3 div.sk-parallel-item::after {content: \"\";width: 100%;border-bottom: 1px solid gray;flex-grow: 1;}#sk-container-id-3 div.sk-label:hover label.sk-toggleable__label {background-color: #d4ebff;}#sk-container-id-3 div.sk-serial::before {content: \"\";position: absolute;border-left: 1px solid gray;box-sizing: border-box;top: 0;bottom: 0;left: 50%;z-index: 0;}#sk-container-id-3 div.sk-serial {display: flex;flex-direction: column;align-items: center;background-color: white;padding-right: 0.2em;padding-left: 0.2em;position: relative;}#sk-container-id-3 div.sk-item {position: relative;z-index: 1;}#sk-container-id-3 div.sk-parallel {display: flex;align-items: stretch;justify-content: center;background-color: white;position: relative;}#sk-container-id-3 div.sk-item::before, #sk-container-id-3 div.sk-parallel-item::before {content: \"\";position: absolute;border-left: 1px solid gray;box-sizing: border-box;top: 0;bottom: 0;left: 50%;z-index: -1;}#sk-container-id-3 div.sk-parallel-item {display: flex;flex-direction: column;z-index: 1;position: relative;background-color: white;}#sk-container-id-3 div.sk-parallel-item:first-child::after {align-self: flex-end;width: 50%;}#sk-container-id-3 div.sk-parallel-item:last-child::after {align-self: flex-start;width: 50%;}#sk-container-id-3 div.sk-parallel-item:only-child::after {width: 0;}#sk-container-id-3 div.sk-dashed-wrapped {border: 1px dashed gray;margin: 0 0.4em 0.5em 0.4em;box-sizing: border-box;padding-bottom: 0.4em;background-color: white;}#sk-container-id-3 div.sk-label label {font-family: monospace;font-weight: bold;display: inline-block;line-height: 1.2em;}#sk-container-id-3 div.sk-label-container {text-align: center;}#sk-container-id-3 div.sk-container {/* jupyter's `normalize.less` sets `[hidden] { display: none; }` but bootstrap.min.css set `[hidden] { display: none !important; }` so we also need the `!important` here to be able to override the default hidden behavior on the sphinx rendered scikit-learn.org. See: https://github.com/scikit-learn/scikit-learn/issues/21755 */display: inline-block !important;position: relative;}#sk-container-id-3 div.sk-text-repr-fallback {display: none;}</style><div id=\"sk-container-id-3\" class=\"sk-top-container\"><div class=\"sk-text-repr-fallback\"><pre>XGBRegressor(base_score=None, booster=None, callbacks=None,\n",
              "             colsample_bylevel=None, colsample_bynode=None,\n",
              "             colsample_bytree=0.8, early_stopping_rounds=None,\n",
              "             enable_categorical=False, eval_metric=None, feature_types=None,\n",
              "             gamma=None, gpu_id=None, grow_policy=None, importance_type=None,\n",
              "             interaction_constraints=None, learning_rate=0.1, max_bin=None,\n",
              "             max_cat_threshold=None, max_cat_to_onehot=None,\n",
              "             max_delta_step=None, max_depth=5, max_leaves=None,\n",
              "             min_child_weight=None, missing=nan, monotone_constraints=None,\n",
              "             n_estimators=50, n_jobs=None, num_parallel_tree=None,\n",
              "             predictor=None, random_state=None, ...)</pre><b>In a Jupyter environment, please rerun this cell to show the HTML representation or trust the notebook. <br />On GitHub, the HTML representation is unable to render, please try loading this page with nbviewer.org.</b></div><div class=\"sk-container\" hidden><div class=\"sk-item\"><div class=\"sk-estimator sk-toggleable\"><input class=\"sk-toggleable__control sk-hidden--visually\" id=\"sk-estimator-id-3\" type=\"checkbox\" checked><label for=\"sk-estimator-id-3\" class=\"sk-toggleable__label sk-toggleable__label-arrow\">XGBRegressor</label><div class=\"sk-toggleable__content\"><pre>XGBRegressor(base_score=None, booster=None, callbacks=None,\n",
              "             colsample_bylevel=None, colsample_bynode=None,\n",
              "             colsample_bytree=0.8, early_stopping_rounds=None,\n",
              "             enable_categorical=False, eval_metric=None, feature_types=None,\n",
              "             gamma=None, gpu_id=None, grow_policy=None, importance_type=None,\n",
              "             interaction_constraints=None, learning_rate=0.1, max_bin=None,\n",
              "             max_cat_threshold=None, max_cat_to_onehot=None,\n",
              "             max_delta_step=None, max_depth=5, max_leaves=None,\n",
              "             min_child_weight=None, missing=nan, monotone_constraints=None,\n",
              "             n_estimators=50, n_jobs=None, num_parallel_tree=None,\n",
              "             predictor=None, random_state=None, ...)</pre></div></div></div></div></div>"
            ]
          },
          "metadata": {},
          "execution_count": 58
        }
      ]
    },
    {
      "cell_type": "code",
      "source": [
        "mean_squared_error(y_val, xgboost_model.predict(X_val), squared = False) #rmse"
      ],
      "metadata": {
        "colab": {
          "base_uri": "https://localhost:8080/"
        },
        "id": "cFDsPlQfgT3F",
        "outputId": "00be7ed2-e82b-469e-c9a9-2f8ea45e954c"
      },
      "execution_count": null,
      "outputs": [
        {
          "output_type": "execute_result",
          "data": {
            "text/plain": [
              "33185.88524842642"
            ]
          },
          "metadata": {},
          "execution_count": 60
        }
      ]
    },
    {
      "cell_type": "code",
      "source": [
        "mean_squared_error(y_train, xgboost_model.predict(X_train), squared = False) #rmse"
      ],
      "metadata": {
        "colab": {
          "base_uri": "https://localhost:8080/"
        },
        "id": "JSWH1xecgbAu",
        "outputId": "c106dad9-f43f-40ad-9356-6e65b2408481"
      },
      "execution_count": null,
      "outputs": [
        {
          "output_type": "execute_result",
          "data": {
            "text/plain": [
              "13897.77303617247"
            ]
          },
          "metadata": {},
          "execution_count": 61
        }
      ]
    },
    {
      "cell_type": "code",
      "source": [],
      "metadata": {
        "id": "BJobW7gjhCHI"
      },
      "execution_count": null,
      "outputs": []
    },
    {
      "cell_type": "markdown",
      "source": [
        "## Baysean Hyperparameter Search + Cross Validation + XGboost"
      ],
      "metadata": {
        "id": "7-kq3MxBit24"
      }
    },
    {
      "cell_type": "code",
      "source": [
        "space = {\n",
        "    'learning_rate': hp.loguniform('learning_rate', -5, 0),\n",
        "    'max_depth': hp.choice('max_depth', range(3, 10)),\n",
        "    'n_estimators': hp.choice('n_estimators', [10, 20, 30]),\n",
        "    'subsample': hp.uniform('subsample', 0.8, 1.0),\n",
        "    'colsample_bytree': hp.uniform('colsample_bytree', 0.8, 1.0)\n",
        "}"
      ],
      "metadata": {
        "id": "dKxl3xpUiyOh"
      },
      "execution_count": 14,
      "outputs": []
    },
    {
      "cell_type": "code",
      "source": [
        "def objective(params):\n",
        "    # Create an XGBoost regressor with the given hyperparameters\n",
        "    xgb = XGBRegressor(\n",
        "        learning_rate=params['learning_rate'],\n",
        "        max_depth=params['max_depth'],\n",
        "        n_estimators=params['n_estimators'],\n",
        "        subsample=params['subsample'],\n",
        "        colsample_bytree=params['colsample_bytree']\n",
        "    )\n",
        "\n",
        "    repeated_cv = RepeatedKFold(n_splits=3, n_repeats=1, random_state=1) #not ideal params -> adjust for real-world application\n",
        "\n",
        "    # Perform cross-validation with mean squared error as the scoring metric\n",
        "    mse_scores = -cross_val_score(xgb, X, y, cv=repeated_cv, scoring='neg_mean_squared_error')\n",
        "\n",
        "    ## Hyperopt is used for minimizing objective and cross validation is maximizing\n",
        "\n",
        "    # Return the mean of the MSE scores as the objective value\n",
        "    return np.mean(mse_scores)"
      ],
      "metadata": {
        "id": "v1JYhITcjXR8"
      },
      "execution_count": 21,
      "outputs": []
    },
    {
      "cell_type": "code",
      "source": [
        "trials = Trials()"
      ],
      "metadata": {
        "id": "wVmCyYBNjyD6"
      },
      "execution_count": 22,
      "outputs": []
    },
    {
      "cell_type": "code",
      "source": [
        "best_model = fmin(\n",
        "    fn=objective, space=space, algo = tpe.suggest, max_evals = 100, trials = trials\n",
        ")"
      ],
      "metadata": {
        "colab": {
          "base_uri": "https://localhost:8080/"
        },
        "id": "HUrDheecj1bE",
        "outputId": "25282db5-9fd0-46ac-b3db-ba56089890db"
      },
      "execution_count": 23,
      "outputs": [
        {
          "output_type": "stream",
          "name": "stdout",
          "text": [
            "100%|██████████| 100/100 [00:48<00:00,  2.07trial/s, best loss: 913558880.1467091]\n"
          ]
        }
      ]
    },
    {
      "cell_type": "code",
      "source": [
        "print(best_model)"
      ],
      "metadata": {
        "colab": {
          "base_uri": "https://localhost:8080/"
        },
        "id": "_CDy_3Xikofg",
        "outputId": "5d301234-4fb0-4296-f2f2-1967ac23fbde"
      },
      "execution_count": null,
      "outputs": [
        {
          "output_type": "stream",
          "name": "stdout",
          "text": [
            "{'colsample_bytree': 0.8431340549072125, 'learning_rate': 0.19878470909797186, 'max_depth': 3, 'n_estimators': 2, 'subsample': 0.9936295527522215}\n"
          ]
        }
      ]
    },
    {
      "cell_type": "code",
      "source": [],
      "metadata": {
        "id": "oJ9u4N_Ck_Xq"
      },
      "execution_count": null,
      "outputs": []
    }
  ]
}