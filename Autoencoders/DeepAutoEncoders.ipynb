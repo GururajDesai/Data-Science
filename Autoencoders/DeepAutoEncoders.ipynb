{
 "cells": [
  {
   "cell_type": "markdown",
   "metadata": {},
   "source": [
    "### Import Libraries"
   ]
  },
  {
   "cell_type": "code",
   "execution_count": 1,
   "metadata": {},
   "outputs": [
    {
     "name": "stderr",
     "output_type": "stream",
     "text": [
      "Using TensorFlow backend.\n"
     ]
    }
   ],
   "source": [
    "from keras.datasets import mnist\n",
    "from keras.layers import Input, Dense\n",
    "from keras.models import Model\n",
    "import numpy as np\n",
    "import pandas as pd\n",
    "import matplotlib.pyplot as plt\n",
    "%matplotlib inline"
   ]
  },
  {
   "cell_type": "markdown",
   "metadata": {},
   "source": [
    "### Import data"
   ]
  },
  {
   "cell_type": "code",
   "execution_count": 3,
   "metadata": {},
   "outputs": [
    {
     "name": "stdout",
     "output_type": "stream",
     "text": [
      "(60000, 784)\n",
      "(10000, 784)\n"
     ]
    }
   ],
   "source": [
    "(X_train, _), (X_test, _) = mnist.load_data()\n",
    "X_train = X_train.astype('float32')/255\n",
    "X_test = X_test.astype('float32')/255\n",
    "X_train = X_train.reshape(len(X_train), np.prod(X_train.shape[1:]))\n",
    "X_test = X_test.reshape(len(X_test), np.prod(X_test.shape[1:]))\n",
    "print(X_train.shape)\n",
    "print(X_test.shape)"
   ]
  },
  {
   "cell_type": "markdown",
   "metadata": {},
   "source": [
    "### Model Building"
   ]
  },
  {
   "cell_type": "markdown",
   "metadata": {},
   "source": [
    "#### Input Image"
   ]
  },
  {
   "cell_type": "code",
   "execution_count": 4,
   "metadata": {},
   "outputs": [],
   "source": [
    "input_img= Input(shape=(784,))"
   ]
  },
  {
   "cell_type": "markdown",
   "metadata": {},
   "source": [
    "#### Encoded and Decoded Layers of the autoencoders"
   ]
  },
  {
   "cell_type": "code",
   "execution_count": 5,
   "metadata": {},
   "outputs": [],
   "source": [
    "encoded = Dense(units=128, activation='relu')(input_img)\n",
    "encoded = Dense(units=64, activation='relu')(encoded)\n",
    "encoded = Dense(units=32, activation='relu')(encoded)\n",
    "\n",
    "decoded = Dense(units=64, activation='relu')(encoded)\n",
    "decoded = Dense(units=128, activation='relu')(decoded)\n",
    "decoded = Dense(units=784, activation='sigmoid')(decoded)"
   ]
  },
  {
   "cell_type": "markdown",
   "metadata": {},
   "source": [
    "#### Autoencoder model"
   ]
  },
  {
   "cell_type": "code",
   "execution_count": 6,
   "metadata": {},
   "outputs": [],
   "source": [
    "autoencoder=Model(input_img, decoded)"
   ]
  },
  {
   "cell_type": "markdown",
   "metadata": {},
   "source": [
    "#### encoder extraction"
   ]
  },
  {
   "cell_type": "code",
   "execution_count": 7,
   "metadata": {},
   "outputs": [],
   "source": [
    "encoder = Model(input_img, encoded)"
   ]
  },
  {
   "cell_type": "markdown",
   "metadata": {},
   "source": [
    "#### compiling the autoencoder"
   ]
  },
  {
   "cell_type": "code",
   "execution_count": 8,
   "metadata": {},
   "outputs": [],
   "source": [
    "autoencoder.compile(optimizer='adadelta', loss='binary_crossentropy', metrics=['accuracy'])"
   ]
  },
  {
   "cell_type": "markdown",
   "metadata": {},
   "source": [
    "#### Fit data to the model"
   ]
  },
  {
   "cell_type": "code",
   "execution_count": 9,
   "metadata": {},
   "outputs": [
    {
     "name": "stdout",
     "output_type": "stream",
     "text": [
      "Train on 60000 samples, validate on 10000 samples\n",
      "Epoch 1/100\n",
      "60000/60000 [==============================] - 5s 87us/step - loss: 0.3355 - acc: 0.7523 - val_loss: 0.2630 - val_acc: 0.7879\n",
      "Epoch 2/100\n",
      "60000/60000 [==============================] - 5s 76us/step - loss: 0.2554 - acc: 0.7954 - val_loss: 0.2451 - val_acc: 0.7943\n",
      "Epoch 3/100\n",
      "60000/60000 [==============================] - 5s 76us/step - loss: 0.2364 - acc: 0.7947 - val_loss: 0.2261 - val_acc: 0.7909\n",
      "Epoch 4/100\n",
      "60000/60000 [==============================] - 5s 80us/step - loss: 0.2160 - acc: 0.7945 - val_loss: 0.2070 - val_acc: 0.7910\n",
      "Epoch 5/100\n",
      "60000/60000 [==============================] - 5s 79us/step - loss: 0.1993 - acc: 0.7961 - val_loss: 0.1926 - val_acc: 0.7984\n",
      "Epoch 6/100\n",
      "60000/60000 [==============================] - 5s 86us/step - loss: 0.1893 - acc: 0.7973 - val_loss: 0.1843 - val_acc: 0.7982\n",
      "Epoch 7/100\n",
      "60000/60000 [==============================] - 4s 71us/step - loss: 0.1830 - acc: 0.7981 - val_loss: 0.1780 - val_acc: 0.8013\n",
      "Epoch 8/100\n",
      "60000/60000 [==============================] - 5s 77us/step - loss: 0.1765 - acc: 0.7992 - val_loss: 0.1728 - val_acc: 0.8032\n",
      "Epoch 9/100\n",
      "60000/60000 [==============================] - 5s 89us/step - loss: 0.1713 - acc: 0.8003 - val_loss: 0.1681 - val_acc: 0.7964\n",
      "Epoch 10/100\n",
      "60000/60000 [==============================] - 5s 89us/step - loss: 0.1663 - acc: 0.8015 - val_loss: 0.1620 - val_acc: 0.8049\n",
      "Epoch 11/100\n",
      "60000/60000 [==============================] - 5s 84us/step - loss: 0.1613 - acc: 0.8027 - val_loss: 0.1579 - val_acc: 0.8055\n",
      "Epoch 12/100\n",
      "60000/60000 [==============================] - 5s 82us/step - loss: 0.1570 - acc: 0.8038 - val_loss: 0.1534 - val_acc: 0.8017\n",
      "Epoch 13/100\n",
      "60000/60000 [==============================] - 5s 84us/step - loss: 0.1533 - acc: 0.8047 - val_loss: 0.1496 - val_acc: 0.8075\n",
      "Epoch 14/100\n",
      "60000/60000 [==============================] - 5s 89us/step - loss: 0.1498 - acc: 0.8054 - val_loss: 0.1465 - val_acc: 0.8067\n",
      "Epoch 15/100\n",
      "60000/60000 [==============================] - 5s 77us/step - loss: 0.1467 - acc: 0.8060 - val_loss: 0.1473 - val_acc: 0.8018\n",
      "Epoch 16/100\n",
      "60000/60000 [==============================] - 5s 91us/step - loss: 0.1442 - acc: 0.8065 - val_loss: 0.1417 - val_acc: 0.8047\n",
      "Epoch 17/100\n",
      "60000/60000 [==============================] - 6s 99us/step - loss: 0.1423 - acc: 0.8069 - val_loss: 0.1412 - val_acc: 0.8056\n",
      "Epoch 18/100\n",
      "60000/60000 [==============================] - 6s 94us/step - loss: 0.1403 - acc: 0.8072 - val_loss: 0.1382 - val_acc: 0.8063\n",
      "Epoch 19/100\n",
      "60000/60000 [==============================] - 5s 77us/step - loss: 0.1385 - acc: 0.8075 - val_loss: 0.1383 - val_acc: 0.8083\n",
      "Epoch 20/100\n",
      "60000/60000 [==============================] - 5s 83us/step - loss: 0.1370 - acc: 0.8078 - val_loss: 0.1366 - val_acc: 0.8041\n",
      "Epoch 21/100\n",
      "60000/60000 [==============================] - 4s 73us/step - loss: 0.1354 - acc: 0.8080 - val_loss: 0.1326 - val_acc: 0.8087\n",
      "Epoch 22/100\n",
      "60000/60000 [==============================] - 5s 75us/step - loss: 0.1340 - acc: 0.8083 - val_loss: 0.1322 - val_acc: 0.8079\n",
      "Epoch 23/100\n",
      "60000/60000 [==============================] - 4s 74us/step - loss: 0.1325 - acc: 0.8085 - val_loss: 0.1327 - val_acc: 0.8072\n",
      "Epoch 24/100\n",
      "60000/60000 [==============================] - 5s 87us/step - loss: 0.1313 - acc: 0.8087 - val_loss: 0.1279 - val_acc: 0.8072\n",
      "Epoch 25/100\n",
      "60000/60000 [==============================] - 4s 73us/step - loss: 0.1302 - acc: 0.8089 - val_loss: 0.1287 - val_acc: 0.8102\n",
      "Epoch 26/100\n",
      "60000/60000 [==============================] - 4s 71us/step - loss: 0.1289 - acc: 0.8092 - val_loss: 0.1263 - val_acc: 0.8098\n",
      "Epoch 27/100\n",
      "60000/60000 [==============================] - 7s 112us/step - loss: 0.1277 - acc: 0.8093 - val_loss: 0.1265 - val_acc: 0.8100\n",
      "Epoch 28/100\n",
      "60000/60000 [==============================] - 6s 105us/step - loss: 0.1266 - acc: 0.8095 - val_loss: 0.1248 - val_acc: 0.8099\n",
      "Epoch 29/100\n",
      "60000/60000 [==============================] - 7s 111us/step - loss: 0.1256 - acc: 0.8097 - val_loss: 0.1234 - val_acc: 0.8079\n",
      "Epoch 30/100\n",
      "60000/60000 [==============================] - 4s 74us/step - loss: 0.1243 - acc: 0.8099 - val_loss: 0.1217 - val_acc: 0.8096\n",
      "Epoch 31/100\n",
      "60000/60000 [==============================] - 5s 78us/step - loss: 0.1234 - acc: 0.8100 - val_loss: 0.1224 - val_acc: 0.8110\n",
      "Epoch 32/100\n",
      "60000/60000 [==============================] - 4s 73us/step - loss: 0.1223 - acc: 0.8102 - val_loss: 0.1199 - val_acc: 0.8107\n",
      "Epoch 33/100\n",
      "60000/60000 [==============================] - 5s 78us/step - loss: 0.1215 - acc: 0.8103 - val_loss: 0.1182 - val_acc: 0.8093\n",
      "Epoch 34/100\n",
      "60000/60000 [==============================] - 4s 73us/step - loss: 0.1206 - acc: 0.8105 - val_loss: 0.1183 - val_acc: 0.8113\n",
      "Epoch 35/100\n",
      "60000/60000 [==============================] - 5s 81us/step - loss: 0.1196 - acc: 0.8106 - val_loss: 0.1185 - val_acc: 0.8085\n",
      "Epoch 36/100\n",
      "60000/60000 [==============================] - 6s 100us/step - loss: 0.1188 - acc: 0.8107 - val_loss: 0.1172 - val_acc: 0.8102\n",
      "Epoch 37/100\n",
      "60000/60000 [==============================] - 5s 84us/step - loss: 0.1181 - acc: 0.8108 - val_loss: 0.1176 - val_acc: 0.8089\n",
      "Epoch 38/100\n",
      "60000/60000 [==============================] - 5s 90us/step - loss: 0.1175 - acc: 0.8109 - val_loss: 0.1161 - val_acc: 0.8113\n",
      "Epoch 39/100\n",
      "60000/60000 [==============================] - 5s 79us/step - loss: 0.1167 - acc: 0.8110 - val_loss: 0.1142 - val_acc: 0.8112\n",
      "Epoch 40/100\n",
      "60000/60000 [==============================] - 5s 90us/step - loss: 0.1161 - acc: 0.8111 - val_loss: 0.1129 - val_acc: 0.8109\n",
      "Epoch 41/100\n",
      "60000/60000 [==============================] - 5s 87us/step - loss: 0.1155 - acc: 0.8112 - val_loss: 0.1128 - val_acc: 0.8109\n",
      "Epoch 42/100\n",
      "60000/60000 [==============================] - 5s 84us/step - loss: 0.1149 - acc: 0.8113 - val_loss: 0.1171 - val_acc: 0.8097\n",
      "Epoch 43/100\n",
      "60000/60000 [==============================] - 5s 88us/step - loss: 0.1144 - acc: 0.8113 - val_loss: 0.1162 - val_acc: 0.8085\n",
      "Epoch 44/100\n",
      "60000/60000 [==============================] - 5s 86us/step - loss: 0.1138 - acc: 0.8114 - val_loss: 0.1125 - val_acc: 0.8100\n",
      "Epoch 45/100\n",
      "60000/60000 [==============================] - 5s 87us/step - loss: 0.1133 - acc: 0.8115 - val_loss: 0.1115 - val_acc: 0.8106\n",
      "Epoch 46/100\n",
      "60000/60000 [==============================] - 5s 90us/step - loss: 0.1130 - acc: 0.8115 - val_loss: 0.1105 - val_acc: 0.8101\n",
      "Epoch 47/100\n",
      "60000/60000 [==============================] - 5s 83us/step - loss: 0.1124 - acc: 0.8116 - val_loss: 0.1112 - val_acc: 0.8103\n",
      "Epoch 48/100\n",
      "60000/60000 [==============================] - 6s 95us/step - loss: 0.1121 - acc: 0.8116 - val_loss: 0.1104 - val_acc: 0.8120\n",
      "Epoch 49/100\n",
      "60000/60000 [==============================] - 5s 83us/step - loss: 0.1115 - acc: 0.8117 - val_loss: 0.1113 - val_acc: 0.8104\n",
      "Epoch 50/100\n",
      "60000/60000 [==============================] - 5s 86us/step - loss: 0.1111 - acc: 0.8118 - val_loss: 0.1095 - val_acc: 0.8103\n",
      "Epoch 51/100\n",
      "60000/60000 [==============================] - 5s 87us/step - loss: 0.1108 - acc: 0.8118 - val_loss: 0.1091 - val_acc: 0.8115\n",
      "Epoch 52/100\n",
      "60000/60000 [==============================] - 5s 90us/step - loss: 0.1103 - acc: 0.8119 - val_loss: 0.1097 - val_acc: 0.8104\n",
      "Epoch 53/100\n",
      "60000/60000 [==============================] - 6s 95us/step - loss: 0.1099 - acc: 0.8119 - val_loss: 0.1070 - val_acc: 0.8106\n",
      "Epoch 54/100\n",
      "60000/60000 [==============================] - 5s 86us/step - loss: 0.1094 - acc: 0.8120 - val_loss: 0.1100 - val_acc: 0.8098\n",
      "Epoch 55/100\n",
      "60000/60000 [==============================] - 5s 92us/step - loss: 0.1091 - acc: 0.8120 - val_loss: 0.1073 - val_acc: 0.8106\n",
      "Epoch 56/100\n",
      "60000/60000 [==============================] - 5s 88us/step - loss: 0.1086 - acc: 0.8121 - val_loss: 0.1065 - val_acc: 0.8108\n",
      "Epoch 57/100\n",
      "60000/60000 [==============================] - 6s 93us/step - loss: 0.1081 - acc: 0.8122 - val_loss: 0.1057 - val_acc: 0.8109\n",
      "Epoch 58/100\n",
      "60000/60000 [==============================] - 5s 88us/step - loss: 0.1077 - acc: 0.8122 - val_loss: 0.1071 - val_acc: 0.8113\n",
      "Epoch 59/100\n"
     ]
    },
    {
     "name": "stdout",
     "output_type": "stream",
     "text": [
      "60000/60000 [==============================] - 5s 80us/step - loss: 0.1073 - acc: 0.8123 - val_loss: 0.1090 - val_acc: 0.8103\n",
      "Epoch 60/100\n",
      "60000/60000 [==============================] - 5s 80us/step - loss: 0.1070 - acc: 0.8123 - val_loss: 0.1061 - val_acc: 0.8124\n",
      "Epoch 61/100\n",
      "60000/60000 [==============================] - 5s 79us/step - loss: 0.1066 - acc: 0.8124 - val_loss: 0.1042 - val_acc: 0.8122\n",
      "Epoch 62/100\n",
      "60000/60000 [==============================] - 5s 90us/step - loss: 0.1060 - acc: 0.8125 - val_loss: 0.1055 - val_acc: 0.8114\n",
      "Epoch 63/100\n",
      "60000/60000 [==============================] - 5s 89us/step - loss: 0.1058 - acc: 0.8125 - val_loss: 0.1055 - val_acc: 0.8118\n",
      "Epoch 64/100\n",
      "60000/60000 [==============================] - 5s 82us/step - loss: 0.1054 - acc: 0.8125 - val_loss: 0.1044 - val_acc: 0.8113\n",
      "Epoch 65/100\n",
      "60000/60000 [==============================] - 5s 89us/step - loss: 0.1052 - acc: 0.8126 - val_loss: 0.1062 - val_acc: 0.8110\n",
      "Epoch 66/100\n",
      "60000/60000 [==============================] - 6s 97us/step - loss: 0.1049 - acc: 0.8126 - val_loss: 0.1033 - val_acc: 0.8119\n",
      "Epoch 67/100\n",
      "60000/60000 [==============================] - 5s 85us/step - loss: 0.1046 - acc: 0.8127 - val_loss: 0.1043 - val_acc: 0.8114\n",
      "Epoch 68/100\n",
      "60000/60000 [==============================] - 5s 82us/step - loss: 0.1043 - acc: 0.8127 - val_loss: 0.1036 - val_acc: 0.8109\n",
      "Epoch 69/100\n",
      "60000/60000 [==============================] - 5s 89us/step - loss: 0.1042 - acc: 0.8127 - val_loss: 0.1034 - val_acc: 0.8123\n",
      "Epoch 70/100\n",
      "60000/60000 [==============================] - 5s 78us/step - loss: 0.1038 - acc: 0.8127 - val_loss: 0.1038 - val_acc: 0.8119\n",
      "Epoch 71/100\n",
      "60000/60000 [==============================] - 5s 85us/step - loss: 0.1036 - acc: 0.8128 - val_loss: 0.1026 - val_acc: 0.8120\n",
      "Epoch 72/100\n",
      "60000/60000 [==============================] - 6s 92us/step - loss: 0.1033 - acc: 0.8128 - val_loss: 0.1046 - val_acc: 0.8124\n",
      "Epoch 73/100\n",
      "60000/60000 [==============================] - 6s 92us/step - loss: 0.1031 - acc: 0.8128 - val_loss: 0.1018 - val_acc: 0.8120\n",
      "Epoch 74/100\n",
      "60000/60000 [==============================] - 5s 85us/step - loss: 0.1029 - acc: 0.8128 - val_loss: 0.1026 - val_acc: 0.8124\n",
      "Epoch 75/100\n",
      "60000/60000 [==============================] - 6s 93us/step - loss: 0.1027 - acc: 0.8129 - val_loss: 0.1020 - val_acc: 0.8114\n",
      "Epoch 76/100\n",
      "60000/60000 [==============================] - 4s 73us/step - loss: 0.1025 - acc: 0.8129 - val_loss: 0.1025 - val_acc: 0.8111\n",
      "Epoch 77/100\n",
      "60000/60000 [==============================] - 5s 85us/step - loss: 0.1023 - acc: 0.8129 - val_loss: 0.1022 - val_acc: 0.8114\n",
      "Epoch 78/100\n",
      "60000/60000 [==============================] - 5s 82us/step - loss: 0.1021 - acc: 0.8129 - val_loss: 0.0998 - val_acc: 0.8127\n",
      "Epoch 79/100\n",
      "60000/60000 [==============================] - 5s 82us/step - loss: 0.1018 - acc: 0.8130 - val_loss: 0.1004 - val_acc: 0.8122\n",
      "Epoch 80/100\n",
      "60000/60000 [==============================] - 5s 82us/step - loss: 0.1016 - acc: 0.8130 - val_loss: 0.1032 - val_acc: 0.8112\n",
      "Epoch 81/100\n",
      "60000/60000 [==============================] - 5s 83us/step - loss: 0.1014 - acc: 0.8130 - val_loss: 0.1000 - val_acc: 0.8119\n",
      "Epoch 82/100\n",
      "60000/60000 [==============================] - 5s 87us/step - loss: 0.1013 - acc: 0.8130 - val_loss: 0.1005 - val_acc: 0.8117\n",
      "Epoch 83/100\n",
      "60000/60000 [==============================] - 5s 91us/step - loss: 0.1012 - acc: 0.8130 - val_loss: 0.1006 - val_acc: 0.8121\n",
      "Epoch 84/100\n",
      "60000/60000 [==============================] - 6s 99us/step - loss: 0.1008 - acc: 0.8131 - val_loss: 0.1003 - val_acc: 0.8121\n",
      "Epoch 85/100\n",
      "60000/60000 [==============================] - 5s 89us/step - loss: 0.1007 - acc: 0.8131 - val_loss: 0.0991 - val_acc: 0.8124\n",
      "Epoch 86/100\n",
      "60000/60000 [==============================] - 6s 100us/step - loss: 0.1006 - acc: 0.8131 - val_loss: 0.1014 - val_acc: 0.8117\n",
      "Epoch 87/100\n",
      "60000/60000 [==============================] - 5s 86us/step - loss: 0.1004 - acc: 0.8131 - val_loss: 0.0995 - val_acc: 0.8121\n",
      "Epoch 88/100\n",
      "60000/60000 [==============================] - 5s 88us/step - loss: 0.1002 - acc: 0.8132 - val_loss: 0.0994 - val_acc: 0.8116\n",
      "Epoch 89/100\n",
      "60000/60000 [==============================] - 5s 85us/step - loss: 0.1000 - acc: 0.8132 - val_loss: 0.1016 - val_acc: 0.8119\n",
      "Epoch 90/100\n",
      "60000/60000 [==============================] - 5s 84us/step - loss: 0.0998 - acc: 0.8132 - val_loss: 0.0972 - val_acc: 0.8128\n",
      "Epoch 91/100\n",
      "60000/60000 [==============================] - 5s 83us/step - loss: 0.0996 - acc: 0.8132 - val_loss: 0.0995 - val_acc: 0.8123\n",
      "Epoch 92/100\n",
      "60000/60000 [==============================] - 5s 85us/step - loss: 0.0995 - acc: 0.8132 - val_loss: 0.0991 - val_acc: 0.8119\n",
      "Epoch 93/100\n",
      "60000/60000 [==============================] - 5s 85us/step - loss: 0.0994 - acc: 0.8132 - val_loss: 0.0993 - val_acc: 0.8124\n",
      "Epoch 94/100\n",
      "60000/60000 [==============================] - 5s 83us/step - loss: 0.0991 - acc: 0.8133 - val_loss: 0.0991 - val_acc: 0.8123\n",
      "Epoch 95/100\n",
      "60000/60000 [==============================] - 5s 80us/step - loss: 0.0989 - acc: 0.8133 - val_loss: 0.0967 - val_acc: 0.8124\n",
      "Epoch 96/100\n",
      "60000/60000 [==============================] - 5s 81us/step - loss: 0.0988 - acc: 0.8133 - val_loss: 0.0975 - val_acc: 0.8122\n",
      "Epoch 97/100\n",
      "60000/60000 [==============================] - 5s 84us/step - loss: 0.0987 - acc: 0.8133 - val_loss: 0.0976 - val_acc: 0.8129\n",
      "Epoch 98/100\n",
      "60000/60000 [==============================] - 5s 85us/step - loss: 0.0985 - acc: 0.8134 - val_loss: 0.0990 - val_acc: 0.8129\n",
      "Epoch 99/100\n",
      "60000/60000 [==============================] - 5s 83us/step - loss: 0.0983 - acc: 0.8134 - val_loss: 0.0996 - val_acc: 0.8114\n",
      "Epoch 100/100\n",
      "60000/60000 [==============================] - 5s 83us/step - loss: 0.0983 - acc: 0.8134 - val_loss: 0.0966 - val_acc: 0.8122\n"
     ]
    },
    {
     "data": {
      "text/plain": [
       "<keras.callbacks.History at 0x110648828>"
      ]
     },
     "execution_count": 9,
     "metadata": {},
     "output_type": "execute_result"
    }
   ],
   "source": [
    "autoencoder.fit(X_train, X_train,\n",
    "                epochs=100,\n",
    "                batch_size=256,\n",
    "                shuffle=True,\n",
    "                validation_data=(X_test, X_test))"
   ]
  },
  {
   "cell_type": "markdown",
   "metadata": {},
   "source": [
    "#### reconstruct the image from model"
   ]
  },
  {
   "cell_type": "code",
   "execution_count": 11,
   "metadata": {},
   "outputs": [],
   "source": [
    "encoded_imgs = encoder.predict(X_test)\n",
    "predicted = autoencoder.predict(X_test)"
   ]
  },
  {
   "cell_type": "markdown",
   "metadata": {},
   "source": [
    "#### plot the predicted and original images"
   ]
  },
  {
   "cell_type": "code",
   "execution_count": 12,
   "metadata": {},
   "outputs": [
    {
     "data": {
      "image/png": "[encoded data removed]",
      "text/plain": [
       "<Figure size 2880x288 with 30 Axes>"
      ]
     },
     "metadata": {
      "needs_background": "light"
     },
     "output_type": "display_data"
    }
   ],
   "source": [
    "plt.figure(figsize=(40, 4))\n",
    "for i in range(10):\n",
    "    # display original images\n",
    "    ax = plt.subplot(3, 20, i + 1)\n",
    "    plt.imshow(X_test[i].reshape(28, 28))\n",
    "    plt.gray()\n",
    "    ax.get_xaxis().set_visible(False)\n",
    "    ax.get_yaxis().set_visible(False)\n",
    "    \n",
    "    # display encoded images\n",
    "    ax = plt.subplot(3, 20, i + 1 + 20)\n",
    "    plt.imshow(encoded_imgs[i].reshape(8,4))\n",
    "    plt.gray()\n",
    "    ax.get_xaxis().set_visible(False)\n",
    "    ax.get_yaxis().set_visible(False)\n",
    "# display reconstructed images\n",
    "    ax = plt.subplot(3, 20, 2*20 +i+ 1)\n",
    "    plt.imshow(predicted[i].reshape(28, 28))\n",
    "    plt.gray()\n",
    "    ax.get_xaxis().set_visible(False)\n",
    "    ax.get_yaxis().set_visible(False)\n",
    "\n",
    "plt.show()"
   ]
  },
  {
   "cell_type": "code",
   "execution_count": null,
   "metadata": {},
   "outputs": [],
   "source": []
  }
 ],
 "metadata": {
  "kernelspec": {
   "display_name": "Python 3",
   "language": "python",
   "name": "python3"
  },
  "language_info": {
   "codemirror_mode": {
    "name": "ipython",
    "version": 3
   },
   "file_extension": ".py",
   "mimetype": "text/x-python",
   "name": "python",
   "nbconvert_exporter": "python",
   "pygments_lexer": "ipython3",
   "version": "3.6.5"
  }
 },
 "nbformat": 4,
 "nbformat_minor": 2
}
